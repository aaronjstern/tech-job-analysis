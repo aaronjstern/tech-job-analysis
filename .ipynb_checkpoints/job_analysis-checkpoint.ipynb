{
 "cells": [
  {
   "cell_type": "markdown",
   "id": "f7353d69",
   "metadata": {},
   "source": [
    "# Developer/Programmer Jobs Ads Analysis\n",
    "    \n",
    "This data set was built using job ads from indeed.com, generated as a response to the general queries \"programmer\" and \"developer\". "
   ]
  },
  {
   "cell_type": "code",
   "execution_count": 1,
   "id": "89edf52e",
   "metadata": {},
   "outputs": [],
   "source": [
    "import pandas as pd"
   ]
  },
  {
   "cell_type": "code",
   "execution_count": null,
   "id": "bfb18f47",
   "metadata": {},
   "outputs": [],
   "source": []
  },
  {
   "cell_type": "code",
   "execution_count": 2,
   "id": "279967f6",
   "metadata": {},
   "outputs": [],
   "source": [
    "scraped_job_data = pd.read_json(\"/Users/aaron/indeed/indeed/spiders/more.json\")"
   ]
  },
  {
   "cell_type": "code",
   "execution_count": 3,
   "id": "747156f8",
   "metadata": {},
   "outputs": [
    {
     "data": {
      "text/html": [
       "<div>\n",
       "<style scoped>\n",
       "    .dataframe tbody tr th:only-of-type {\n",
       "        vertical-align: middle;\n",
       "    }\n",
       "\n",
       "    .dataframe tbody tr th {\n",
       "        vertical-align: top;\n",
       "    }\n",
       "\n",
       "    .dataframe thead th {\n",
       "        text-align: right;\n",
       "    }\n",
       "</style>\n",
       "<table border=\"1\" class=\"dataframe\">\n",
       "  <thead>\n",
       "    <tr style=\"text-align: right;\">\n",
       "      <th></th>\n",
       "      <th>title</th>\n",
       "      <th>job_details</th>\n",
       "      <th>qualifications</th>\n",
       "      <th>benefits</th>\n",
       "      <th>full_job_description</th>\n",
       "    </tr>\n",
       "  </thead>\n",
       "  <tbody>\n",
       "    <tr>\n",
       "      <th>0</th>\n",
       "      <td>Python Developer</td>\n",
       "      <td>[Job details, Salary, $80,000 - $120,000 a yea...</td>\n",
       "      <td>[Qualifications, Bachelor's (Preferred), REST:...</td>\n",
       "      <td>[]</td>\n",
       "      <td>[Write effective, scalable code, Develop back-...</td>\n",
       "    </tr>\n",
       "    <tr>\n",
       "      <th>1</th>\n",
       "      <td>Associate Developer (Remote)</td>\n",
       "      <td>[]</td>\n",
       "      <td>[]</td>\n",
       "      <td>[]</td>\n",
       "      <td>[Nationwide/Remote, \\n, Associate Developer at...</td>\n",
       "    </tr>\n",
       "    <tr>\n",
       "      <th>2</th>\n",
       "      <td>C# Developer</td>\n",
       "      <td>[]</td>\n",
       "      <td>[]</td>\n",
       "      <td>[]</td>\n",
       "      <td>[Pricing Developer, \\nWhippany, NJ, \\n, As a B...</td>\n",
       "    </tr>\n",
       "    <tr>\n",
       "      <th>3</th>\n",
       "      <td>Web Developer</td>\n",
       "      <td>[Job details, Job Type, Full-time]</td>\n",
       "      <td>[]</td>\n",
       "      <td>[]</td>\n",
       "      <td>[Position Responsibilities:, Qualifications:, ...</td>\n",
       "    </tr>\n",
       "    <tr>\n",
       "      <th>4</th>\n",
       "      <td>Jr. Software Developer</td>\n",
       "      <td>[Job details, Salary, $65,000 - $90,000 a year...</td>\n",
       "      <td>[Qualifications, Bachelor's (Preferred), Node....</td>\n",
       "      <td>[]</td>\n",
       "      <td>[Job Title: Jr. Software Developer, Location: ...</td>\n",
       "    </tr>\n",
       "  </tbody>\n",
       "</table>\n",
       "</div>"
      ],
      "text/plain": [
       "                          title  \\\n",
       "0              Python Developer   \n",
       "1  Associate Developer (Remote)   \n",
       "2                  C# Developer   \n",
       "3                 Web Developer   \n",
       "4        Jr. Software Developer   \n",
       "\n",
       "                                         job_details  \\\n",
       "0  [Job details, Salary, $80,000 - $120,000 a yea...   \n",
       "1                                                 []   \n",
       "2                                                 []   \n",
       "3                 [Job details, Job Type, Full-time]   \n",
       "4  [Job details, Salary, $65,000 - $90,000 a year...   \n",
       "\n",
       "                                      qualifications benefits  \\\n",
       "0  [Qualifications, Bachelor's (Preferred), REST:...       []   \n",
       "1                                                 []       []   \n",
       "2                                                 []       []   \n",
       "3                                                 []       []   \n",
       "4  [Qualifications, Bachelor's (Preferred), Node....       []   \n",
       "\n",
       "                                full_job_description  \n",
       "0  [Write effective, scalable code, Develop back-...  \n",
       "1  [Nationwide/Remote, \\n, Associate Developer at...  \n",
       "2  [Pricing Developer, \\nWhippany, NJ, \\n, As a B...  \n",
       "3  [Position Responsibilities:, Qualifications:, ...  \n",
       "4  [Job Title: Jr. Software Developer, Location: ...  "
      ]
     },
     "execution_count": 3,
     "metadata": {},
     "output_type": "execute_result"
    }
   ],
   "source": [
    "scraped_job_data.head()"
   ]
  },
  {
   "cell_type": "code",
   "execution_count": 4,
   "id": "483f1b5e",
   "metadata": {},
   "outputs": [
    {
     "name": "stdout",
     "output_type": "stream",
     "text": [
      "<class 'pandas.core.frame.DataFrame'>\n",
      "RangeIndex: 3655 entries, 0 to 3654\n",
      "Data columns (total 5 columns):\n",
      " #   Column                Non-Null Count  Dtype \n",
      "---  ------                --------------  ----- \n",
      " 0   title                 3648 non-null   object\n",
      " 1   job_details           3655 non-null   object\n",
      " 2   qualifications        3655 non-null   object\n",
      " 3   benefits              3655 non-null   object\n",
      " 4   full_job_description  3655 non-null   object\n",
      "dtypes: object(5)\n",
      "memory usage: 142.9+ KB\n"
     ]
    }
   ],
   "source": [
    "scraped_job_data.info()"
   ]
  },
  {
   "cell_type": "markdown",
   "id": "8a7e9ad3",
   "metadata": {},
   "source": [
    "### Check for empty values in columns\n",
    "    astype(bool) will filter out empty rows. "
   ]
  },
  {
   "cell_type": "code",
   "execution_count": 5,
   "id": "25f13494",
   "metadata": {
    "scrolled": true
   },
   "outputs": [
    {
     "data": {
      "text/plain": [
       "2950"
      ]
     },
     "execution_count": 5,
     "metadata": {},
     "output_type": "execute_result"
    }
   ],
   "source": [
    "len(scraped_job_data[scraped_job_data.job_details.astype(bool)])"
   ]
  },
  {
   "cell_type": "code",
   "execution_count": 6,
   "id": "4af047ac",
   "metadata": {
    "scrolled": true
   },
   "outputs": [
    {
     "data": {
      "text/plain": [
       "1190"
      ]
     },
     "execution_count": 6,
     "metadata": {},
     "output_type": "execute_result"
    }
   ],
   "source": [
    "len(scraped_job_data[scraped_job_data.qualifications.astype(bool)])"
   ]
  },
  {
   "cell_type": "code",
   "execution_count": 7,
   "id": "d2b125f2",
   "metadata": {},
   "outputs": [
    {
     "data": {
      "text/html": [
       "<div>\n",
       "<style scoped>\n",
       "    .dataframe tbody tr th:only-of-type {\n",
       "        vertical-align: middle;\n",
       "    }\n",
       "\n",
       "    .dataframe tbody tr th {\n",
       "        vertical-align: top;\n",
       "    }\n",
       "\n",
       "    .dataframe thead th {\n",
       "        text-align: right;\n",
       "    }\n",
       "</style>\n",
       "<table border=\"1\" class=\"dataframe\">\n",
       "  <thead>\n",
       "    <tr style=\"text-align: right;\">\n",
       "      <th></th>\n",
       "      <th>title</th>\n",
       "      <th>job_details</th>\n",
       "      <th>qualifications</th>\n",
       "      <th>benefits</th>\n",
       "      <th>full_job_description</th>\n",
       "    </tr>\n",
       "  </thead>\n",
       "  <tbody>\n",
       "    <tr>\n",
       "      <th>0</th>\n",
       "      <td>Python Developer</td>\n",
       "      <td>[Job details, Salary, $80,000 - $120,000 a yea...</td>\n",
       "      <td>[Qualifications, Bachelor's (Preferred), REST:...</td>\n",
       "      <td>[]</td>\n",
       "      <td>[Write effective, scalable code, Develop back-...</td>\n",
       "    </tr>\n",
       "    <tr>\n",
       "      <th>1</th>\n",
       "      <td>Associate Developer (Remote)</td>\n",
       "      <td>[]</td>\n",
       "      <td>[]</td>\n",
       "      <td>[]</td>\n",
       "      <td>[Nationwide/Remote, \\n, Associate Developer at...</td>\n",
       "    </tr>\n",
       "    <tr>\n",
       "      <th>2</th>\n",
       "      <td>C# Developer</td>\n",
       "      <td>[]</td>\n",
       "      <td>[]</td>\n",
       "      <td>[]</td>\n",
       "      <td>[Pricing Developer, \\nWhippany, NJ, \\n, As a B...</td>\n",
       "    </tr>\n",
       "    <tr>\n",
       "      <th>3</th>\n",
       "      <td>Web Developer</td>\n",
       "      <td>[Job details, Job Type, Full-time]</td>\n",
       "      <td>[]</td>\n",
       "      <td>[]</td>\n",
       "      <td>[Position Responsibilities:, Qualifications:, ...</td>\n",
       "    </tr>\n",
       "    <tr>\n",
       "      <th>4</th>\n",
       "      <td>Jr. Software Developer</td>\n",
       "      <td>[Job details, Salary, $65,000 - $90,000 a year...</td>\n",
       "      <td>[Qualifications, Bachelor's (Preferred), Node....</td>\n",
       "      <td>[]</td>\n",
       "      <td>[Job Title: Jr. Software Developer, Location: ...</td>\n",
       "    </tr>\n",
       "    <tr>\n",
       "      <th>...</th>\n",
       "      <td>...</td>\n",
       "      <td>...</td>\n",
       "      <td>...</td>\n",
       "      <td>...</td>\n",
       "      <td>...</td>\n",
       "    </tr>\n",
       "    <tr>\n",
       "      <th>3650</th>\n",
       "      <td>Core Developer</td>\n",
       "      <td>[Job details, Job Type, Full-time]</td>\n",
       "      <td>[]</td>\n",
       "      <td>[]</td>\n",
       "      <td>[What does a great TradeFlow Core Developer do...</td>\n",
       "    </tr>\n",
       "    <tr>\n",
       "      <th>3651</th>\n",
       "      <td>SDET - C# - Fully Remote</td>\n",
       "      <td>[Job details, Salary, $125,000 - $160,000 a year]</td>\n",
       "      <td>[]</td>\n",
       "      <td>[]</td>\n",
       "      <td>[Our client, a software company in the healthc...</td>\n",
       "    </tr>\n",
       "    <tr>\n",
       "      <th>3652</th>\n",
       "      <td>C# Developer (7+ years experience)</td>\n",
       "      <td>[Job details, Salary, $80,000 - $150,000 a yea...</td>\n",
       "      <td>[Qualifications, Bachelor's (Required), C# or ...</td>\n",
       "      <td>[]</td>\n",
       "      <td>[NOVO Engineering is a contract engineering se...</td>\n",
       "    </tr>\n",
       "    <tr>\n",
       "      <th>3653</th>\n",
       "      <td>PHP / CodeIgnitor Developer</td>\n",
       "      <td>[Job details, Job Type, Full-time]</td>\n",
       "      <td>[]</td>\n",
       "      <td>[]</td>\n",
       "      <td>[Description:\\n, \\nLynker Technologies has an ...</td>\n",
       "    </tr>\n",
       "    <tr>\n",
       "      <th>3654</th>\n",
       "      <td>Software Developer PHP</td>\n",
       "      <td>[Job details, Job Type, Full-time]</td>\n",
       "      <td>[]</td>\n",
       "      <td>[]</td>\n",
       "      <td>[Posted: February 1st 2021, \\n, POSITION:, \\n,...</td>\n",
       "    </tr>\n",
       "  </tbody>\n",
       "</table>\n",
       "<p>3622 rows × 5 columns</p>\n",
       "</div>"
      ],
      "text/plain": [
       "                                   title  \\\n",
       "0                       Python Developer   \n",
       "1           Associate Developer (Remote)   \n",
       "2                           C# Developer   \n",
       "3                          Web Developer   \n",
       "4                 Jr. Software Developer   \n",
       "...                                  ...   \n",
       "3650                      Core Developer   \n",
       "3651            SDET - C# - Fully Remote   \n",
       "3652  C# Developer (7+ years experience)   \n",
       "3653         PHP / CodeIgnitor Developer   \n",
       "3654              Software Developer PHP   \n",
       "\n",
       "                                            job_details  \\\n",
       "0     [Job details, Salary, $80,000 - $120,000 a yea...   \n",
       "1                                                    []   \n",
       "2                                                    []   \n",
       "3                    [Job details, Job Type, Full-time]   \n",
       "4     [Job details, Salary, $65,000 - $90,000 a year...   \n",
       "...                                                 ...   \n",
       "3650                 [Job details, Job Type, Full-time]   \n",
       "3651  [Job details, Salary, $125,000 - $160,000 a year]   \n",
       "3652  [Job details, Salary, $80,000 - $150,000 a yea...   \n",
       "3653                 [Job details, Job Type, Full-time]   \n",
       "3654                 [Job details, Job Type, Full-time]   \n",
       "\n",
       "                                         qualifications benefits  \\\n",
       "0     [Qualifications, Bachelor's (Preferred), REST:...       []   \n",
       "1                                                    []       []   \n",
       "2                                                    []       []   \n",
       "3                                                    []       []   \n",
       "4     [Qualifications, Bachelor's (Preferred), Node....       []   \n",
       "...                                                 ...      ...   \n",
       "3650                                                 []       []   \n",
       "3651                                                 []       []   \n",
       "3652  [Qualifications, Bachelor's (Required), C# or ...       []   \n",
       "3653                                                 []       []   \n",
       "3654                                                 []       []   \n",
       "\n",
       "                                   full_job_description  \n",
       "0     [Write effective, scalable code, Develop back-...  \n",
       "1     [Nationwide/Remote, \\n, Associate Developer at...  \n",
       "2     [Pricing Developer, \\nWhippany, NJ, \\n, As a B...  \n",
       "3     [Position Responsibilities:, Qualifications:, ...  \n",
       "4     [Job Title: Jr. Software Developer, Location: ...  \n",
       "...                                                 ...  \n",
       "3650  [What does a great TradeFlow Core Developer do...  \n",
       "3651  [Our client, a software company in the healthc...  \n",
       "3652  [NOVO Engineering is a contract engineering se...  \n",
       "3653  [Description:\\n, \\nLynker Technologies has an ...  \n",
       "3654  [Posted: February 1st 2021, \\n, POSITION:, \\n,...  \n",
       "\n",
       "[3622 rows x 5 columns]"
      ]
     },
     "execution_count": 7,
     "metadata": {},
     "output_type": "execute_result"
    }
   ],
   "source": [
    "(scraped_job_data[scraped_job_data.full_job_description.astype(bool)])"
   ]
  },
  {
   "cell_type": "code",
   "execution_count": 8,
   "id": "bed769ff",
   "metadata": {},
   "outputs": [
    {
     "data": {
      "text/plain": [
       "3648"
      ]
     },
     "execution_count": 8,
     "metadata": {},
     "output_type": "execute_result"
    }
   ],
   "source": [
    "len(scraped_job_data[scraped_job_data.title.astype(bool)])"
   ]
  },
  {
   "cell_type": "code",
   "execution_count": 9,
   "id": "f83c3390",
   "metadata": {},
   "outputs": [
    {
     "data": {
      "text/plain": [
       "0"
      ]
     },
     "execution_count": 9,
     "metadata": {},
     "output_type": "execute_result"
    }
   ],
   "source": [
    "len(scraped_job_data[scraped_job_data.benefits.astype(bool)])"
   ]
  },
  {
   "cell_type": "markdown",
   "id": "9813658e",
   "metadata": {},
   "source": [
    "### Drop empty benefits column and rows without full description"
   ]
  },
  {
   "cell_type": "code",
   "execution_count": 10,
   "id": "1484b83d",
   "metadata": {},
   "outputs": [],
   "source": [
    "scraped_job_data.drop('benefits', axis=1, inplace=True)"
   ]
  },
  {
   "cell_type": "code",
   "execution_count": 11,
   "id": "5bf6123c",
   "metadata": {},
   "outputs": [],
   "source": [
    "job_data = scraped_job_data[scraped_job_data.full_job_description.astype(bool)]"
   ]
  },
  {
   "cell_type": "code",
   "execution_count": 12,
   "id": "968336e8",
   "metadata": {},
   "outputs": [
    {
     "data": {
      "text/plain": [
       "3622"
      ]
     },
     "execution_count": 12,
     "metadata": {},
     "output_type": "execute_result"
    }
   ],
   "source": [
    "len(job_data)"
   ]
  },
  {
   "cell_type": "markdown",
   "id": "2d469c85",
   "metadata": {},
   "source": [
    "### Join lists in last three columns to be able to check for and drop duplicates\n",
    "    pandas duplicated() cannot work with lists"
   ]
  },
  {
   "cell_type": "code",
   "execution_count": 13,
   "id": "3b12dfaa",
   "metadata": {},
   "outputs": [
    {
     "ename": "TypeError",
     "evalue": "sequence item 0: expected str instance, list found",
     "output_type": "error",
     "traceback": [
      "\u001b[0;31m---------------------------------------------------------------------------\u001b[0m",
      "\u001b[0;31mTypeError\u001b[0m                                 Traceback (most recent call last)",
      "\u001b[0;32m/var/folders/nw/7w37pmb96wv4gfbcvg6626y80000gn/T/ipykernel_73528/967742954.py\u001b[0m in \u001b[0;36m<module>\u001b[0;34m\u001b[0m\n\u001b[1;32m      1\u001b[0m \u001b[0;31m#for col in job_data.columns[1:]:\u001b[0m\u001b[0;34m\u001b[0m\u001b[0;34m\u001b[0m\u001b[0;34m\u001b[0m\u001b[0m\n\u001b[0;32m----> 2\u001b[0;31m \u001b[0mjob_data\u001b[0m\u001b[0;34m.\u001b[0m\u001b[0mapply\u001b[0m\u001b[0;34m(\u001b[0m\u001b[0;32mlambda\u001b[0m \u001b[0mx\u001b[0m\u001b[0;34m:\u001b[0m \u001b[0;34m\" \"\u001b[0m\u001b[0;34m.\u001b[0m\u001b[0mjoin\u001b[0m\u001b[0;34m(\u001b[0m\u001b[0mx\u001b[0m\u001b[0;34m)\u001b[0m\u001b[0;34m)\u001b[0m\u001b[0;34m\u001b[0m\u001b[0;34m\u001b[0m\u001b[0m\n\u001b[0m",
      "\u001b[0;32m~/opt/anaconda3/lib/python3.8/site-packages/pandas/core/frame.py\u001b[0m in \u001b[0;36mapply\u001b[0;34m(self, func, axis, raw, result_type, args, **kwargs)\u001b[0m\n\u001b[1;32m   8738\u001b[0m             \u001b[0mkwargs\u001b[0m\u001b[0;34m=\u001b[0m\u001b[0mkwargs\u001b[0m\u001b[0;34m,\u001b[0m\u001b[0;34m\u001b[0m\u001b[0;34m\u001b[0m\u001b[0m\n\u001b[1;32m   8739\u001b[0m         )\n\u001b[0;32m-> 8740\u001b[0;31m         \u001b[0;32mreturn\u001b[0m \u001b[0mop\u001b[0m\u001b[0;34m.\u001b[0m\u001b[0mapply\u001b[0m\u001b[0;34m(\u001b[0m\u001b[0;34m)\u001b[0m\u001b[0;34m\u001b[0m\u001b[0;34m\u001b[0m\u001b[0m\n\u001b[0m\u001b[1;32m   8741\u001b[0m \u001b[0;34m\u001b[0m\u001b[0m\n\u001b[1;32m   8742\u001b[0m     def applymap(\n",
      "\u001b[0;32m~/opt/anaconda3/lib/python3.8/site-packages/pandas/core/apply.py\u001b[0m in \u001b[0;36mapply\u001b[0;34m(self)\u001b[0m\n\u001b[1;32m    686\u001b[0m             \u001b[0;32mreturn\u001b[0m \u001b[0mself\u001b[0m\u001b[0;34m.\u001b[0m\u001b[0mapply_raw\u001b[0m\u001b[0;34m(\u001b[0m\u001b[0;34m)\u001b[0m\u001b[0;34m\u001b[0m\u001b[0;34m\u001b[0m\u001b[0m\n\u001b[1;32m    687\u001b[0m \u001b[0;34m\u001b[0m\u001b[0m\n\u001b[0;32m--> 688\u001b[0;31m         \u001b[0;32mreturn\u001b[0m \u001b[0mself\u001b[0m\u001b[0;34m.\u001b[0m\u001b[0mapply_standard\u001b[0m\u001b[0;34m(\u001b[0m\u001b[0;34m)\u001b[0m\u001b[0;34m\u001b[0m\u001b[0;34m\u001b[0m\u001b[0m\n\u001b[0m\u001b[1;32m    689\u001b[0m \u001b[0;34m\u001b[0m\u001b[0m\n\u001b[1;32m    690\u001b[0m     \u001b[0;32mdef\u001b[0m \u001b[0magg\u001b[0m\u001b[0;34m(\u001b[0m\u001b[0mself\u001b[0m\u001b[0;34m)\u001b[0m\u001b[0;34m:\u001b[0m\u001b[0;34m\u001b[0m\u001b[0;34m\u001b[0m\u001b[0m\n",
      "\u001b[0;32m~/opt/anaconda3/lib/python3.8/site-packages/pandas/core/apply.py\u001b[0m in \u001b[0;36mapply_standard\u001b[0;34m(self)\u001b[0m\n\u001b[1;32m    810\u001b[0m \u001b[0;34m\u001b[0m\u001b[0m\n\u001b[1;32m    811\u001b[0m     \u001b[0;32mdef\u001b[0m \u001b[0mapply_standard\u001b[0m\u001b[0;34m(\u001b[0m\u001b[0mself\u001b[0m\u001b[0;34m)\u001b[0m\u001b[0;34m:\u001b[0m\u001b[0;34m\u001b[0m\u001b[0;34m\u001b[0m\u001b[0m\n\u001b[0;32m--> 812\u001b[0;31m         \u001b[0mresults\u001b[0m\u001b[0;34m,\u001b[0m \u001b[0mres_index\u001b[0m \u001b[0;34m=\u001b[0m \u001b[0mself\u001b[0m\u001b[0;34m.\u001b[0m\u001b[0mapply_series_generator\u001b[0m\u001b[0;34m(\u001b[0m\u001b[0;34m)\u001b[0m\u001b[0;34m\u001b[0m\u001b[0;34m\u001b[0m\u001b[0m\n\u001b[0m\u001b[1;32m    813\u001b[0m \u001b[0;34m\u001b[0m\u001b[0m\n\u001b[1;32m    814\u001b[0m         \u001b[0;31m# wrap results\u001b[0m\u001b[0;34m\u001b[0m\u001b[0;34m\u001b[0m\u001b[0;34m\u001b[0m\u001b[0m\n",
      "\u001b[0;32m~/opt/anaconda3/lib/python3.8/site-packages/pandas/core/apply.py\u001b[0m in \u001b[0;36mapply_series_generator\u001b[0;34m(self)\u001b[0m\n\u001b[1;32m    826\u001b[0m             \u001b[0;32mfor\u001b[0m \u001b[0mi\u001b[0m\u001b[0;34m,\u001b[0m \u001b[0mv\u001b[0m \u001b[0;32min\u001b[0m \u001b[0menumerate\u001b[0m\u001b[0;34m(\u001b[0m\u001b[0mseries_gen\u001b[0m\u001b[0;34m)\u001b[0m\u001b[0;34m:\u001b[0m\u001b[0;34m\u001b[0m\u001b[0;34m\u001b[0m\u001b[0m\n\u001b[1;32m    827\u001b[0m                 \u001b[0;31m# ignore SettingWithCopy here in case the user mutates\u001b[0m\u001b[0;34m\u001b[0m\u001b[0;34m\u001b[0m\u001b[0;34m\u001b[0m\u001b[0m\n\u001b[0;32m--> 828\u001b[0;31m                 \u001b[0mresults\u001b[0m\u001b[0;34m[\u001b[0m\u001b[0mi\u001b[0m\u001b[0;34m]\u001b[0m \u001b[0;34m=\u001b[0m \u001b[0mself\u001b[0m\u001b[0;34m.\u001b[0m\u001b[0mf\u001b[0m\u001b[0;34m(\u001b[0m\u001b[0mv\u001b[0m\u001b[0;34m)\u001b[0m\u001b[0;34m\u001b[0m\u001b[0;34m\u001b[0m\u001b[0m\n\u001b[0m\u001b[1;32m    829\u001b[0m                 \u001b[0;32mif\u001b[0m \u001b[0misinstance\u001b[0m\u001b[0;34m(\u001b[0m\u001b[0mresults\u001b[0m\u001b[0;34m[\u001b[0m\u001b[0mi\u001b[0m\u001b[0;34m]\u001b[0m\u001b[0;34m,\u001b[0m \u001b[0mABCSeries\u001b[0m\u001b[0;34m)\u001b[0m\u001b[0;34m:\u001b[0m\u001b[0;34m\u001b[0m\u001b[0;34m\u001b[0m\u001b[0m\n\u001b[1;32m    830\u001b[0m                     \u001b[0;31m# If we have a view on v, we need to make a copy because\u001b[0m\u001b[0;34m\u001b[0m\u001b[0;34m\u001b[0m\u001b[0;34m\u001b[0m\u001b[0m\n",
      "\u001b[0;32m/var/folders/nw/7w37pmb96wv4gfbcvg6626y80000gn/T/ipykernel_73528/967742954.py\u001b[0m in \u001b[0;36m<lambda>\u001b[0;34m(x)\u001b[0m\n\u001b[1;32m      1\u001b[0m \u001b[0;31m#for col in job_data.columns[1:]:\u001b[0m\u001b[0;34m\u001b[0m\u001b[0;34m\u001b[0m\u001b[0;34m\u001b[0m\u001b[0m\n\u001b[0;32m----> 2\u001b[0;31m \u001b[0mjob_data\u001b[0m\u001b[0;34m.\u001b[0m\u001b[0mapply\u001b[0m\u001b[0;34m(\u001b[0m\u001b[0;32mlambda\u001b[0m \u001b[0mx\u001b[0m\u001b[0;34m:\u001b[0m \u001b[0;34m\" \"\u001b[0m\u001b[0;34m.\u001b[0m\u001b[0mjoin\u001b[0m\u001b[0;34m(\u001b[0m\u001b[0mx\u001b[0m\u001b[0;34m)\u001b[0m\u001b[0;34m)\u001b[0m\u001b[0;34m\u001b[0m\u001b[0;34m\u001b[0m\u001b[0m\n\u001b[0m",
      "\u001b[0;31mTypeError\u001b[0m: sequence item 0: expected str instance, list found"
     ]
    }
   ],
   "source": [
    "#for col in job_data.columns[1:]:\n",
    "job_data.apply(lambda x: \" \".join(x))"
   ]
  },
  {
   "cell_type": "code",
   "execution_count": null,
   "id": "ff04672a",
   "metadata": {},
   "outputs": [],
   "source": [
    "job_data.head()"
   ]
  },
  {
   "cell_type": "code",
   "execution_count": null,
   "id": "948c666f",
   "metadata": {},
   "outputs": [],
   "source": [
    "job_data.duplicated().sum()"
   ]
  },
  {
   "cell_type": "code",
   "execution_count": null,
   "id": "81a69720",
   "metadata": {},
   "outputs": [],
   "source": [
    "job_data[job_data.duplicated() == True]"
   ]
  },
  {
   "cell_type": "code",
   "execution_count": null,
   "id": "daa5279d",
   "metadata": {},
   "outputs": [],
   "source": [
    "job_data[job_data == job_data.iloc[36]].dropna()"
   ]
  },
  {
   "cell_type": "code",
   "execution_count": null,
   "id": "60c54daa",
   "metadata": {},
   "outputs": [],
   "source": [
    "job_data[job_data == job_data.iloc[38]].dropna()"
   ]
  },
  {
   "cell_type": "code",
   "execution_count": null,
   "id": "234fa82e",
   "metadata": {},
   "outputs": [],
   "source": [
    "job_data[job_data == job_data.iloc[1790]].dropna()"
   ]
  },
  {
   "cell_type": "code",
   "execution_count": null,
   "id": "63f747e8",
   "metadata": {},
   "outputs": [],
   "source": [
    "job_data.drop_duplicates(inplace=True)"
   ]
  },
  {
   "cell_type": "code",
   "execution_count": null,
   "id": "e32a46ae",
   "metadata": {},
   "outputs": [],
   "source": [
    "job_data"
   ]
  },
  {
   "cell_type": "markdown",
   "id": "11906bf7",
   "metadata": {},
   "source": [
    "### Use spacy's built-in named entity recognizer as to generate ideas about domain specific entites"
   ]
  },
  {
   "cell_type": "code",
   "execution_count": null,
   "id": "eb867a61",
   "metadata": {},
   "outputs": [],
   "source": [
    "import spacy\n",
    "nlp = spacy.load(\"en_core_web_sm\")"
   ]
  },
  {
   "cell_type": "code",
   "execution_count": null,
   "id": "dfedecc5",
   "metadata": {},
   "outputs": [],
   "source": [
    "docs = list(nlp.pipe(job_data.full_job_description))"
   ]
  },
  {
   "cell_type": "code",
   "execution_count": null,
   "id": "004e9bf5",
   "metadata": {},
   "outputs": [],
   "source": [
    "def show_ents(doc):\n",
    "    if doc.ents:\n",
    "        for ent in doc.ents:\n",
    "            print(ent.text+' - ' + ent.label_+ ' - '+str(spacy.explain(ent.label_)))\n",
    "    else:\n",
    "        print(\"No named entities found.\")"
   ]
  },
  {
   "cell_type": "code",
   "execution_count": null,
   "id": "dad2be03",
   "metadata": {},
   "outputs": [],
   "source": [
    "show_ents(docs[0])"
   ]
  },
  {
   "cell_type": "code",
   "execution_count": null,
   "id": "a4d0dba2",
   "metadata": {},
   "outputs": [],
   "source": [
    "show_ents(docs[358])"
   ]
  },
  {
   "cell_type": "code",
   "execution_count": null,
   "id": "cd944615",
   "metadata": {},
   "outputs": [],
   "source": [
    "def get_ents(doc):\n",
    "    if doc.ents:\n",
    "        return [ent.text for ent in doc.ents]\n",
    "    else:\n",
    "        pass"
   ]
  },
  {
   "cell_type": "code",
   "execution_count": null,
   "id": "b620b739",
   "metadata": {},
   "outputs": [],
   "source": [
    "from pandas.core.common import flatten"
   ]
  },
  {
   "cell_type": "code",
   "execution_count": null,
   "id": "b7109f69",
   "metadata": {},
   "outputs": [],
   "source": [
    "ents = pd.Series(list(flatten([get_ents(doc) for doc in docs])))"
   ]
  },
  {
   "cell_type": "code",
   "execution_count": null,
   "id": "d1616535",
   "metadata": {},
   "outputs": [],
   "source": [
    "ent_counts = ents.value_counts(ascending=False)"
   ]
  },
  {
   "cell_type": "code",
   "execution_count": null,
   "id": "561a486e",
   "metadata": {},
   "outputs": [],
   "source": [
    "ent_counts"
   ]
  },
  {
   "cell_type": "code",
   "execution_count": null,
   "id": "b471e9c3",
   "metadata": {},
   "outputs": [],
   "source": [
    "ent_counts.head(50)"
   ]
  },
  {
   "cell_type": "markdown",
   "id": "0fc3dd25",
   "metadata": {},
   "source": [
    "### Check performance of spacy ner\n",
    "    Search for \"Python\" and \"JavaScript\" using spacy ner and simple string search with regex IGNORECASE"
   ]
  },
  {
   "cell_type": "code",
   "execution_count": null,
   "id": "a137d476",
   "metadata": {
    "scrolled": true
   },
   "outputs": [],
   "source": [
    "ent_counts[ent_counts.index == \"Python\"]"
   ]
  },
  {
   "cell_type": "code",
   "execution_count": null,
   "id": "825d4c0d",
   "metadata": {},
   "outputs": [],
   "source": [
    "import re"
   ]
  },
  {
   "cell_type": "code",
   "execution_count": null,
   "id": "c070b90f",
   "metadata": {
    "scrolled": true
   },
   "outputs": [],
   "source": [
    "python_spacy_check = job_data.full_job_description.str.findall('Python', flags=re.IGNORECASE)"
   ]
  },
  {
   "cell_type": "code",
   "execution_count": null,
   "id": "63346817",
   "metadata": {},
   "outputs": [],
   "source": [
    "python_spacy_check[python_spacy_check.values.astype(bool)]"
   ]
  },
  {
   "cell_type": "code",
   "execution_count": null,
   "id": "8a49b2ad",
   "metadata": {},
   "outputs": [],
   "source": [
    "javascript_spacy_check = job_data.full_job_description.str.findall('JavaScript', flags=re.IGNORECASE)"
   ]
  },
  {
   "cell_type": "code",
   "execution_count": null,
   "id": "57266c12",
   "metadata": {
    "scrolled": true
   },
   "outputs": [],
   "source": [
    "javascript_spacy_check[javascript_spacy_check.values.astype(bool)]"
   ]
  },
  {
   "cell_type": "markdown",
   "id": "ec32e869",
   "metadata": {},
   "source": [
    "    Spacy ner seems to find \"JavaScript\" roughly the correct amount of times.\n",
    "    But it substantially undercounts \"Python\": 40 vs. 244"
   ]
  },
  {
   "cell_type": "markdown",
   "id": "931e2eb9",
   "metadata": {},
   "source": [
    "### Build a rules-based gazateer for a job ad specific named-entity recognizer"
   ]
  },
  {
   "cell_type": "code",
   "execution_count": null,
   "id": "85c0b51c",
   "metadata": {},
   "outputs": [],
   "source": [
    "def count_skills(skill_title, pattern=None, flags=re.IGNORECASE):\n",
    "    if not pattern:\n",
    "        pattern = skill_title\n",
    "    try:\n",
    "        skill_series = job_data.full_job_description.str.findall(pattern, flags)\n",
    "        count = len(skill_series[skill_series.values.astype(bool)])\n",
    "        skill_count = {'Skill' : skill_title, 'Count' : count}\n",
    "    except:\n",
    "        pass\n",
    "    else:\n",
    "        return skill_count"
   ]
  },
  {
   "cell_type": "code",
   "execution_count": null,
   "id": "cfe6be59",
   "metadata": {},
   "outputs": [],
   "source": [
    "count_skills(\"Python\")"
   ]
  },
  {
   "cell_type": "code",
   "execution_count": null,
   "id": "a6ee4182",
   "metadata": {},
   "outputs": [],
   "source": [
    "patterns = ['Python', \"SQL\", 'JavaScript', 'Java', 'AWS', 'Linux', 'Agile', 'Django', 'DevOps', 'Cloud',\n",
    "           'CSS', 'Docker', 'Git', 'ETL', 'GIS', 'Tableau',\n",
    "           'Kubernetes', \"Cloud\", 'Azure', 'Jenkins', 'Ruby', 'HTML5', \n",
    "            \"Excel\", \"NoSQL\", \"Perl\", \"Hadoop\", \"Angular\", \"Lambda\", \"Oracle\",\n",
    "           'Redis', 'JIRA', 'Flask', 'JSON', 'PostgreSQL', 'Kafka', 'Terraform', \n",
    "            'Salesforce', 'XML', 'Scrum', 'Scala', 'Spark', 'NodeJS', \n",
    "            'Bash', 'JIRA', 'React', 'AngularJS' , \"PowerShell\", \"HTML\", \n",
    "            'Golang', 'GitHub', 'Visual Studio', 'jQuery', 'Bitbucket', \"salesforce.com\", 'Splunk', \n",
    "            'Machine Learning', 'Big Data', 'MySQL', 'DynamoDB', 'PowerPoint',\n",
    "            'Selenium', 'Bootstrap', 'Power BI', 'GitLab', 'Redshift', 'Google Cloud', 'HTTP', \n",
    "            'Redfin', 'TCP/IP', 'Mongo', \"WordPress\", \"MVC\"]"
   ]
  },
  {
   "cell_type": "code",
   "execution_count": null,
   "id": "898647e2",
   "metadata": {},
   "outputs": [],
   "source": [
    "skill_counts = [count_skills(pattern) for pattern in patterns]"
   ]
  },
  {
   "cell_type": "code",
   "execution_count": null,
   "id": "0c2ada29",
   "metadata": {},
   "outputs": [],
   "source": [
    "skill_counts"
   ]
  },
  {
   "cell_type": "code",
   "execution_count": null,
   "id": "b3e99659",
   "metadata": {},
   "outputs": [],
   "source": [
    "skill_counts_frame = pd.Series({skill_count['Skill']: skill_count['Count'] for skill_count in skill_counts })"
   ]
  },
  {
   "cell_type": "code",
   "execution_count": null,
   "id": "e61bc0e9",
   "metadata": {},
   "outputs": [],
   "source": [
    "skill_counts_frame.sort_values(ascending=False, inplace=True)"
   ]
  },
  {
   "cell_type": "code",
   "execution_count": null,
   "id": "da874e4b",
   "metadata": {},
   "outputs": [],
   "source": [
    "skill_counts_frame"
   ]
  },
  {
   "cell_type": "code",
   "execution_count": null,
   "id": "0c0e0618",
   "metadata": {
    "scrolled": true
   },
   "outputs": [],
   "source": [
    "job_data[job_data.job_details.astype(bool)]"
   ]
  },
  {
   "cell_type": "code",
   "execution_count": null,
   "id": "2f479b7a",
   "metadata": {},
   "outputs": [],
   "source": [
    "job_data[job_data.job_details.str.findall(\"Salary\").astype(bool)]"
   ]
  },
  {
   "cell_type": "code",
   "execution_count": null,
   "id": "11790ea9",
   "metadata": {},
   "outputs": [],
   "source": [
    "job_data[job_data.full_job_description.str.findall(\"\\$\").astype(bool)]"
   ]
  },
  {
   "cell_type": "code",
   "execution_count": null,
   "id": "64f86dad",
   "metadata": {},
   "outputs": [],
   "source": [
    "salary = job_data.job_details.str.findall(r\"Salary.*[J$]\")"
   ]
  },
  {
   "cell_type": "code",
   "execution_count": null,
   "id": "487b1c79",
   "metadata": {},
   "outputs": [],
   "source": [
    "len(salary[salary.values.astype(bool)])"
   ]
  },
  {
   "cell_type": "code",
   "execution_count": null,
   "id": "8b6e7fde",
   "metadata": {
    "scrolled": true
   },
   "outputs": [],
   "source": [
    "salary"
   ]
  },
  {
   "cell_type": "code",
   "execution_count": null,
   "id": "24e552eb",
   "metadata": {},
   "outputs": [],
   "source": [
    "job_data.Salary = salary "
   ]
  },
  {
   "cell_type": "code",
   "execution_count": null,
   "id": "3218c0ee",
   "metadata": {},
   "outputs": [],
   "source": [
    "job_data"
   ]
  },
  {
   "cell_type": "code",
   "execution_count": null,
   "id": "e3f2db0a",
   "metadata": {},
   "outputs": [],
   "source": [
    "job_data.loc[:,\"Salary\"] = job_data.Salary.str.join(\"\")"
   ]
  },
  {
   "cell_type": "code",
   "execution_count": null,
   "id": "20737908",
   "metadata": {},
   "outputs": [],
   "source": [
    "job_data"
   ]
  },
  {
   "cell_type": "code",
   "execution_count": null,
   "id": "952af8f0",
   "metadata": {},
   "outputs": [],
   "source": []
  },
  {
   "cell_type": "code",
   "execution_count": null,
   "id": "550d3042",
   "metadata": {},
   "outputs": [],
   "source": [
    "job_data"
   ]
  },
  {
   "cell_type": "code",
   "execution_count": null,
   "id": "7b773dae",
   "metadata": {},
   "outputs": [],
   "source": []
  }
 ],
 "metadata": {
  "kernelspec": {
   "display_name": "Python 3 (ipykernel)",
   "language": "python",
   "name": "python3"
  },
  "language_info": {
   "codemirror_mode": {
    "name": "ipython",
    "version": 3
   },
   "file_extension": ".py",
   "mimetype": "text/x-python",
   "name": "python",
   "nbconvert_exporter": "python",
   "pygments_lexer": "ipython3",
   "version": "3.8.12"
  }
 },
 "nbformat": 4,
 "nbformat_minor": 5
}
