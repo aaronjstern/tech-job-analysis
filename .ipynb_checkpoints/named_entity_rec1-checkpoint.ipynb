{
 "cells": [
  {
   "cell_type": "code",
   "execution_count": 1,
   "id": "401c97bf",
   "metadata": {},
   "outputs": [],
   "source": [
    "import json\n",
    "import csv\n",
    "import pandas as pd"
   ]
  },
  {
   "cell_type": "code",
   "execution_count": 2,
   "id": "c9abb051",
   "metadata": {},
   "outputs": [],
   "source": [
    "job_text = pd.read_json(\"job_data.json\")"
   ]
  },
  {
   "cell_type": "code",
   "execution_count": 3,
   "id": "a7fade6a",
   "metadata": {},
   "outputs": [
    {
     "data": {
      "text/html": [
       "<div>\n",
       "<style scoped>\n",
       "    .dataframe tbody tr th:only-of-type {\n",
       "        vertical-align: middle;\n",
       "    }\n",
       "\n",
       "    .dataframe tbody tr th {\n",
       "        vertical-align: top;\n",
       "    }\n",
       "\n",
       "    .dataframe thead th {\n",
       "        text-align: right;\n",
       "    }\n",
       "</style>\n",
       "<table border=\"1\" class=\"dataframe\">\n",
       "  <thead>\n",
       "    <tr style=\"text-align: right;\">\n",
       "      <th></th>\n",
       "      <th>title</th>\n",
       "      <th>company</th>\n",
       "      <th>text</th>\n",
       "    </tr>\n",
       "  </thead>\n",
       "  <tbody>\n",
       "    <tr>\n",
       "      <th>0</th>\n",
       "      <td>CRM Analyst</td>\n",
       "      <td>None</td>\n",
       "      <td>[Summary, \\nThe CRM Analyst will work closely ...</td>\n",
       "    </tr>\n",
       "    <tr>\n",
       "      <th>1</th>\n",
       "      <td>Python Developer</td>\n",
       "      <td>RD Digital Solutions</td>\n",
       "      <td>[Job Description, Role - , Python Developer, W...</td>\n",
       "    </tr>\n",
       "    <tr>\n",
       "      <th>2</th>\n",
       "      <td>Data Engineer - ENTRY LEVEL</td>\n",
       "      <td>None</td>\n",
       "      <td>[Responsibilities, · Analyze and organize raw ...</td>\n",
       "    </tr>\n",
       "    <tr>\n",
       "      <th>3</th>\n",
       "      <td>Python Developer</td>\n",
       "      <td>None</td>\n",
       "      <td>[Aplomb technologies is hiring for python Deve...</td>\n",
       "    </tr>\n",
       "    <tr>\n",
       "      <th>4</th>\n",
       "      <td>Business Intelligence Analyst - entry level</td>\n",
       "      <td>None</td>\n",
       "      <td>[Responsibilities:, Developing and managing bu...</td>\n",
       "    </tr>\n",
       "  </tbody>\n",
       "</table>\n",
       "</div>"
      ],
      "text/plain": [
       "                                         title               company  \\\n",
       "0                                  CRM Analyst                  None   \n",
       "1                             Python Developer  RD Digital Solutions   \n",
       "2                  Data Engineer - ENTRY LEVEL                  None   \n",
       "3                             Python Developer                  None   \n",
       "4  Business Intelligence Analyst - entry level                  None   \n",
       "\n",
       "                                                text  \n",
       "0  [Summary, \\nThe CRM Analyst will work closely ...  \n",
       "1  [Job Description, Role - , Python Developer, W...  \n",
       "2  [Responsibilities, · Analyze and organize raw ...  \n",
       "3  [Aplomb technologies is hiring for python Deve...  \n",
       "4  [Responsibilities:, Developing and managing bu...  "
      ]
     },
     "execution_count": 3,
     "metadata": {},
     "output_type": "execute_result"
    }
   ],
   "source": [
    "job_text.head()"
   ]
  },
  {
   "cell_type": "code",
   "execution_count": 4,
   "id": "2b6eab46",
   "metadata": {
    "scrolled": true
   },
   "outputs": [
    {
     "name": "stdout",
     "output_type": "stream",
     "text": [
      "<class 'pandas.core.frame.DataFrame'>\n",
      "RangeIndex: 1596 entries, 0 to 1595\n",
      "Data columns (total 3 columns):\n",
      " #   Column   Non-Null Count  Dtype \n",
      "---  ------   --------------  ----- \n",
      " 0   title    1567 non-null   object\n",
      " 1   company  741 non-null    object\n",
      " 2   text     1596 non-null   object\n",
      "dtypes: object(3)\n",
      "memory usage: 37.5+ KB\n"
     ]
    }
   ],
   "source": [
    "job_text.info()"
   ]
  },
  {
   "cell_type": "code",
   "execution_count": 5,
   "id": "00423f5b",
   "metadata": {},
   "outputs": [],
   "source": [
    "job_text[\"text\"] = job_text[\"text\"].str.join(\" \")"
   ]
  },
  {
   "cell_type": "code",
   "execution_count": 6,
   "id": "e605f855",
   "metadata": {},
   "outputs": [
    {
     "data": {
      "text/plain": [
       "0       Summary \\nThe CRM Analyst will work closely wi...\n",
       "1       Job Description Role -  Python Developer W2 op...\n",
       "2       Responsibilities · Analyze and organize raw da...\n",
       "3       Aplomb technologies is hiring for python Devel...\n",
       "4       Responsibilities: Developing and managing busi...\n",
       "                              ...                        \n",
       "1591                                                     \n",
       "1592                                                     \n",
       "1593    Junior Application Developer Dallas, TX Contra...\n",
       "1594    Job Title:  C++ Developer \\n Location:  Remote...\n",
       "1595    BenevolentAI unites AI with human expertise to...\n",
       "Name: text, Length: 1596, dtype: object"
      ]
     },
     "execution_count": 6,
     "metadata": {},
     "output_type": "execute_result"
    }
   ],
   "source": [
    "job_text[\"text\"]"
   ]
  },
  {
   "cell_type": "code",
   "execution_count": 7,
   "id": "e9f6a642",
   "metadata": {},
   "outputs": [
    {
     "data": {
      "text/plain": [
       "193"
      ]
     },
     "execution_count": 7,
     "metadata": {},
     "output_type": "execute_result"
    }
   ],
   "source": [
    "job_text.duplicated().sum()"
   ]
  },
  {
   "cell_type": "code",
   "execution_count": 8,
   "id": "69dd301b",
   "metadata": {},
   "outputs": [],
   "source": [
    "job_text[\"duplicated\"] = job_text.duplicated()"
   ]
  },
  {
   "cell_type": "code",
   "execution_count": 9,
   "id": "6b5e6ffb",
   "metadata": {},
   "outputs": [
    {
     "data": {
      "text/html": [
       "<div>\n",
       "<style scoped>\n",
       "    .dataframe tbody tr th:only-of-type {\n",
       "        vertical-align: middle;\n",
       "    }\n",
       "\n",
       "    .dataframe tbody tr th {\n",
       "        vertical-align: top;\n",
       "    }\n",
       "\n",
       "    .dataframe thead th {\n",
       "        text-align: right;\n",
       "    }\n",
       "</style>\n",
       "<table border=\"1\" class=\"dataframe\">\n",
       "  <thead>\n",
       "    <tr style=\"text-align: right;\">\n",
       "      <th></th>\n",
       "      <th>title</th>\n",
       "      <th>company</th>\n",
       "      <th>text</th>\n",
       "      <th>duplicated</th>\n",
       "    </tr>\n",
       "  </thead>\n",
       "  <tbody>\n",
       "    <tr>\n",
       "      <th>72</th>\n",
       "      <td>None</td>\n",
       "      <td>None</td>\n",
       "      <td></td>\n",
       "      <td>True</td>\n",
       "    </tr>\n",
       "    <tr>\n",
       "      <th>203</th>\n",
       "      <td>None</td>\n",
       "      <td>None</td>\n",
       "      <td></td>\n",
       "      <td>True</td>\n",
       "    </tr>\n",
       "    <tr>\n",
       "      <th>204</th>\n",
       "      <td>None</td>\n",
       "      <td>None</td>\n",
       "      <td></td>\n",
       "      <td>True</td>\n",
       "    </tr>\n",
       "    <tr>\n",
       "      <th>216</th>\n",
       "      <td>None</td>\n",
       "      <td>None</td>\n",
       "      <td></td>\n",
       "      <td>True</td>\n",
       "    </tr>\n",
       "    <tr>\n",
       "      <th>305</th>\n",
       "      <td>None</td>\n",
       "      <td>None</td>\n",
       "      <td></td>\n",
       "      <td>True</td>\n",
       "    </tr>\n",
       "    <tr>\n",
       "      <th>375</th>\n",
       "      <td>None</td>\n",
       "      <td>None</td>\n",
       "      <td></td>\n",
       "      <td>True</td>\n",
       "    </tr>\n",
       "    <tr>\n",
       "      <th>391</th>\n",
       "      <td>None</td>\n",
       "      <td>None</td>\n",
       "      <td></td>\n",
       "      <td>True</td>\n",
       "    </tr>\n",
       "    <tr>\n",
       "      <th>492</th>\n",
       "      <td>None</td>\n",
       "      <td>None</td>\n",
       "      <td></td>\n",
       "      <td>True</td>\n",
       "    </tr>\n",
       "    <tr>\n",
       "      <th>506</th>\n",
       "      <td>None</td>\n",
       "      <td>None</td>\n",
       "      <td></td>\n",
       "      <td>True</td>\n",
       "    </tr>\n",
       "    <tr>\n",
       "      <th>522</th>\n",
       "      <td>None</td>\n",
       "      <td>None</td>\n",
       "      <td></td>\n",
       "      <td>True</td>\n",
       "    </tr>\n",
       "    <tr>\n",
       "      <th>523</th>\n",
       "      <td>None</td>\n",
       "      <td>None</td>\n",
       "      <td></td>\n",
       "      <td>True</td>\n",
       "    </tr>\n",
       "    <tr>\n",
       "      <th>524</th>\n",
       "      <td>None</td>\n",
       "      <td>None</td>\n",
       "      <td></td>\n",
       "      <td>True</td>\n",
       "    </tr>\n",
       "    <tr>\n",
       "      <th>525</th>\n",
       "      <td>None</td>\n",
       "      <td>None</td>\n",
       "      <td></td>\n",
       "      <td>True</td>\n",
       "    </tr>\n",
       "    <tr>\n",
       "      <th>526</th>\n",
       "      <td>None</td>\n",
       "      <td>None</td>\n",
       "      <td></td>\n",
       "      <td>True</td>\n",
       "    </tr>\n",
       "    <tr>\n",
       "      <th>527</th>\n",
       "      <td>None</td>\n",
       "      <td>None</td>\n",
       "      <td></td>\n",
       "      <td>True</td>\n",
       "    </tr>\n",
       "    <tr>\n",
       "      <th>528</th>\n",
       "      <td>None</td>\n",
       "      <td>None</td>\n",
       "      <td></td>\n",
       "      <td>True</td>\n",
       "    </tr>\n",
       "    <tr>\n",
       "      <th>529</th>\n",
       "      <td>None</td>\n",
       "      <td>None</td>\n",
       "      <td></td>\n",
       "      <td>True</td>\n",
       "    </tr>\n",
       "    <tr>\n",
       "      <th>530</th>\n",
       "      <td>None</td>\n",
       "      <td>None</td>\n",
       "      <td></td>\n",
       "      <td>True</td>\n",
       "    </tr>\n",
       "    <tr>\n",
       "      <th>531</th>\n",
       "      <td>None</td>\n",
       "      <td>None</td>\n",
       "      <td></td>\n",
       "      <td>True</td>\n",
       "    </tr>\n",
       "    <tr>\n",
       "      <th>532</th>\n",
       "      <td>None</td>\n",
       "      <td>None</td>\n",
       "      <td></td>\n",
       "      <td>True</td>\n",
       "    </tr>\n",
       "    <tr>\n",
       "      <th>533</th>\n",
       "      <td>None</td>\n",
       "      <td>None</td>\n",
       "      <td></td>\n",
       "      <td>True</td>\n",
       "    </tr>\n",
       "    <tr>\n",
       "      <th>534</th>\n",
       "      <td>None</td>\n",
       "      <td>None</td>\n",
       "      <td></td>\n",
       "      <td>True</td>\n",
       "    </tr>\n",
       "    <tr>\n",
       "      <th>535</th>\n",
       "      <td>None</td>\n",
       "      <td>None</td>\n",
       "      <td></td>\n",
       "      <td>True</td>\n",
       "    </tr>\n",
       "    <tr>\n",
       "      <th>536</th>\n",
       "      <td>None</td>\n",
       "      <td>None</td>\n",
       "      <td></td>\n",
       "      <td>True</td>\n",
       "    </tr>\n",
       "    <tr>\n",
       "      <th>537</th>\n",
       "      <td>None</td>\n",
       "      <td>None</td>\n",
       "      <td></td>\n",
       "      <td>True</td>\n",
       "    </tr>\n",
       "    <tr>\n",
       "      <th>539</th>\n",
       "      <td>None</td>\n",
       "      <td>None</td>\n",
       "      <td></td>\n",
       "      <td>True</td>\n",
       "    </tr>\n",
       "    <tr>\n",
       "      <th>540</th>\n",
       "      <td>Python Developer</td>\n",
       "      <td>RD Digital Solutions</td>\n",
       "      <td>Job Description Role -  Python Developer W2 op...</td>\n",
       "      <td>True</td>\n",
       "    </tr>\n",
       "    <tr>\n",
       "      <th>541</th>\n",
       "      <td>Entry Level Python Developer</td>\n",
       "      <td>Emonics</td>\n",
       "      <td>Qualifications 4-year degree from a respected ...</td>\n",
       "      <td>True</td>\n",
       "    </tr>\n",
       "    <tr>\n",
       "      <th>542</th>\n",
       "      <td>Python Developer</td>\n",
       "      <td>None</td>\n",
       "      <td>Aplomb technologies is hiring for python Devel...</td>\n",
       "      <td>True</td>\n",
       "    </tr>\n",
       "    <tr>\n",
       "      <th>543</th>\n",
       "      <td>Python Developer</td>\n",
       "      <td>JetRock Analytics</td>\n",
       "      <td>Python Developer The Role Use your creativity ...</td>\n",
       "      <td>True</td>\n",
       "    </tr>\n",
       "    <tr>\n",
       "      <th>546</th>\n",
       "      <td>Python Developer</td>\n",
       "      <td>Cloudspace LLC</td>\n",
       "      <td>Must be 5-7 years of exp Skills Work experienc...</td>\n",
       "      <td>True</td>\n",
       "    </tr>\n",
       "    <tr>\n",
       "      <th>547</th>\n",
       "      <td>Python Developer</td>\n",
       "      <td>Advithri Technologies</td>\n",
       "      <td>Python's standard library supports many Intern...</td>\n",
       "      <td>True</td>\n",
       "    </tr>\n",
       "    <tr>\n",
       "      <th>548</th>\n",
       "      <td>Python Developer</td>\n",
       "      <td>Go8IT</td>\n",
       "      <td>Job Description \\nSkill Set: \\nExpertise in at...</td>\n",
       "      <td>True</td>\n",
       "    </tr>\n",
       "    <tr>\n",
       "      <th>549</th>\n",
       "      <td>Python Developer</td>\n",
       "      <td>workcog inc</td>\n",
       "      <td>We are looking for a Python Developer to join ...</td>\n",
       "      <td>True</td>\n",
       "    </tr>\n",
       "    <tr>\n",
       "      <th>550</th>\n",
       "      <td>Python Developer</td>\n",
       "      <td>Canyon Associates</td>\n",
       "      <td>Bachelor's degree 5 years experience building ...</td>\n",
       "      <td>True</td>\n",
       "    </tr>\n",
       "    <tr>\n",
       "      <th>551</th>\n",
       "      <td>Software Developer, Junior</td>\n",
       "      <td>None</td>\n",
       "      <td>The Challenge: \\nDo you want to build software...</td>\n",
       "      <td>True</td>\n",
       "    </tr>\n",
       "    <tr>\n",
       "      <th>553</th>\n",
       "      <td>Python Software Engineering Teaching Assistant...</td>\n",
       "      <td>None</td>\n",
       "      <td>As a Python Software Engineering Teaching Assi...</td>\n",
       "      <td>True</td>\n",
       "    </tr>\n",
       "    <tr>\n",
       "      <th>554</th>\n",
       "      <td>Senior Python/Frontend Developer</td>\n",
       "      <td>None</td>\n",
       "      <td>Employee Status : Shift : Travel : Job Posting...</td>\n",
       "      <td>True</td>\n",
       "    </tr>\n",
       "    <tr>\n",
       "      <th>555</th>\n",
       "      <td>Python Developer</td>\n",
       "      <td>Digitive LLC</td>\n",
       "      <td>Python backend developer, full stack developer...</td>\n",
       "      <td>True</td>\n",
       "    </tr>\n",
       "    <tr>\n",
       "      <th>559</th>\n",
       "      <td>Junior Python Developer</td>\n",
       "      <td>None</td>\n",
       "      <td>Job Classification:\\n Technology - Software De...</td>\n",
       "      <td>True</td>\n",
       "    </tr>\n",
       "    <tr>\n",
       "      <th>560</th>\n",
       "      <td>Training &amp; Placement in Python developer</td>\n",
       "      <td>Precision technologies</td>\n",
       "      <td>Precision Technologies, Inc., an E-Verified an...</td>\n",
       "      <td>True</td>\n",
       "    </tr>\n",
       "    <tr>\n",
       "      <th>562</th>\n",
       "      <td>C++/Python Developer</td>\n",
       "      <td>None</td>\n",
       "      <td>RFT IT – Application Developer \\n Primary Loca...</td>\n",
       "      <td>True</td>\n",
       "    </tr>\n",
       "    <tr>\n",
       "      <th>564</th>\n",
       "      <td>Python Developer(Training and placement)</td>\n",
       "      <td>Tek minds</td>\n",
       "      <td>We are hiring for our clients requirements. - ...</td>\n",
       "      <td>True</td>\n",
       "    </tr>\n",
       "    <tr>\n",
       "      <th>565</th>\n",
       "      <td>ColdFusion Developer</td>\n",
       "      <td>None</td>\n",
       "      <td>RESPONSIBILITIES: QUALIFICATIONS:</td>\n",
       "      <td>True</td>\n",
       "    </tr>\n",
       "    <tr>\n",
       "      <th>566</th>\n",
       "      <td>Python Developer</td>\n",
       "      <td>Akava</td>\n",
       "      <td>We're looking to add a great Python Developer ...</td>\n",
       "      <td>True</td>\n",
       "    </tr>\n",
       "    <tr>\n",
       "      <th>568</th>\n",
       "      <td>Python Developer</td>\n",
       "      <td>Orpine, Inc. Internal</td>\n",
       "      <td>&lt;&lt; Back to all jobs \\n  share \\n  Print \\n N/A...</td>\n",
       "      <td>True</td>\n",
       "    </tr>\n",
       "    <tr>\n",
       "      <th>569</th>\n",
       "      <td>Python Developer(W2 roles)</td>\n",
       "      <td>Super Logix</td>\n",
       "      <td>We are hiring for Training and placement oppor...</td>\n",
       "      <td>True</td>\n",
       "    </tr>\n",
       "    <tr>\n",
       "      <th>570</th>\n",
       "      <td>Python Developer-Reactjs</td>\n",
       "      <td>SmarTek21, LLC</td>\n",
       "      <td>Job description : We are looking for a strong ...</td>\n",
       "      <td>True</td>\n",
       "    </tr>\n",
       "    <tr>\n",
       "      <th>572</th>\n",
       "      <td>Python/Django Developer</td>\n",
       "      <td>Scanslated, Inc.</td>\n",
       "      <td>Scanslated, Inc is a digital health startup. W...</td>\n",
       "      <td>True</td>\n",
       "    </tr>\n",
       "    <tr>\n",
       "      <th>573</th>\n",
       "      <td>Business Intelligence Developer on Python, SQL...</td>\n",
       "      <td>CapB InfoteK</td>\n",
       "      <td>Responsibilities: \\n Hands on Python SQL and B...</td>\n",
       "      <td>True</td>\n",
       "    </tr>\n",
       "  </tbody>\n",
       "</table>\n",
       "</div>"
      ],
      "text/plain": [
       "                                                 title  \\\n",
       "72                                                None   \n",
       "203                                               None   \n",
       "204                                               None   \n",
       "216                                               None   \n",
       "305                                               None   \n",
       "375                                               None   \n",
       "391                                               None   \n",
       "492                                               None   \n",
       "506                                               None   \n",
       "522                                               None   \n",
       "523                                               None   \n",
       "524                                               None   \n",
       "525                                               None   \n",
       "526                                               None   \n",
       "527                                               None   \n",
       "528                                               None   \n",
       "529                                               None   \n",
       "530                                               None   \n",
       "531                                               None   \n",
       "532                                               None   \n",
       "533                                               None   \n",
       "534                                               None   \n",
       "535                                               None   \n",
       "536                                               None   \n",
       "537                                               None   \n",
       "539                                               None   \n",
       "540                                   Python Developer   \n",
       "541                       Entry Level Python Developer   \n",
       "542                                   Python Developer   \n",
       "543                                   Python Developer   \n",
       "546                                   Python Developer   \n",
       "547                                   Python Developer   \n",
       "548                                   Python Developer   \n",
       "549                                   Python Developer   \n",
       "550                                   Python Developer   \n",
       "551                         Software Developer, Junior   \n",
       "553  Python Software Engineering Teaching Assistant...   \n",
       "554                   Senior Python/Frontend Developer   \n",
       "555                                   Python Developer   \n",
       "559                            Junior Python Developer   \n",
       "560           Training & Placement in Python developer   \n",
       "562                               C++/Python Developer   \n",
       "564           Python Developer(Training and placement)   \n",
       "565                               ColdFusion Developer   \n",
       "566                                   Python Developer   \n",
       "568                                   Python Developer   \n",
       "569                         Python Developer(W2 roles)   \n",
       "570                           Python Developer-Reactjs   \n",
       "572                            Python/Django Developer   \n",
       "573  Business Intelligence Developer on Python, SQL...   \n",
       "\n",
       "                    company  \\\n",
       "72                     None   \n",
       "203                    None   \n",
       "204                    None   \n",
       "216                    None   \n",
       "305                    None   \n",
       "375                    None   \n",
       "391                    None   \n",
       "492                    None   \n",
       "506                    None   \n",
       "522                    None   \n",
       "523                    None   \n",
       "524                    None   \n",
       "525                    None   \n",
       "526                    None   \n",
       "527                    None   \n",
       "528                    None   \n",
       "529                    None   \n",
       "530                    None   \n",
       "531                    None   \n",
       "532                    None   \n",
       "533                    None   \n",
       "534                    None   \n",
       "535                    None   \n",
       "536                    None   \n",
       "537                    None   \n",
       "539                    None   \n",
       "540    RD Digital Solutions   \n",
       "541                 Emonics   \n",
       "542                    None   \n",
       "543       JetRock Analytics   \n",
       "546          Cloudspace LLC   \n",
       "547   Advithri Technologies   \n",
       "548                   Go8IT   \n",
       "549             workcog inc   \n",
       "550       Canyon Associates   \n",
       "551                    None   \n",
       "553                    None   \n",
       "554                    None   \n",
       "555            Digitive LLC   \n",
       "559                    None   \n",
       "560  Precision technologies   \n",
       "562                    None   \n",
       "564               Tek minds   \n",
       "565                    None   \n",
       "566                   Akava   \n",
       "568   Orpine, Inc. Internal   \n",
       "569             Super Logix   \n",
       "570          SmarTek21, LLC   \n",
       "572        Scanslated, Inc.   \n",
       "573            CapB InfoteK   \n",
       "\n",
       "                                                  text  duplicated  \n",
       "72                                                            True  \n",
       "203                                                           True  \n",
       "204                                                           True  \n",
       "216                                                           True  \n",
       "305                                                           True  \n",
       "375                                                           True  \n",
       "391                                                           True  \n",
       "492                                                           True  \n",
       "506                                                           True  \n",
       "522                                                           True  \n",
       "523                                                           True  \n",
       "524                                                           True  \n",
       "525                                                           True  \n",
       "526                                                           True  \n",
       "527                                                           True  \n",
       "528                                                           True  \n",
       "529                                                           True  \n",
       "530                                                           True  \n",
       "531                                                           True  \n",
       "532                                                           True  \n",
       "533                                                           True  \n",
       "534                                                           True  \n",
       "535                                                           True  \n",
       "536                                                           True  \n",
       "537                                                           True  \n",
       "539                                                           True  \n",
       "540  Job Description Role -  Python Developer W2 op...        True  \n",
       "541  Qualifications 4-year degree from a respected ...        True  \n",
       "542  Aplomb technologies is hiring for python Devel...        True  \n",
       "543  Python Developer The Role Use your creativity ...        True  \n",
       "546  Must be 5-7 years of exp Skills Work experienc...        True  \n",
       "547  Python's standard library supports many Intern...        True  \n",
       "548  Job Description \\nSkill Set: \\nExpertise in at...        True  \n",
       "549  We are looking for a Python Developer to join ...        True  \n",
       "550  Bachelor's degree 5 years experience building ...        True  \n",
       "551  The Challenge: \\nDo you want to build software...        True  \n",
       "553  As a Python Software Engineering Teaching Assi...        True  \n",
       "554  Employee Status : Shift : Travel : Job Posting...        True  \n",
       "555  Python backend developer, full stack developer...        True  \n",
       "559  Job Classification:\\n Technology - Software De...        True  \n",
       "560  Precision Technologies, Inc., an E-Verified an...        True  \n",
       "562  RFT IT – Application Developer \\n Primary Loca...        True  \n",
       "564  We are hiring for our clients requirements. - ...        True  \n",
       "565                  RESPONSIBILITIES: QUALIFICATIONS:        True  \n",
       "566  We're looking to add a great Python Developer ...        True  \n",
       "568  << Back to all jobs \\n  share \\n  Print \\n N/A...        True  \n",
       "569  We are hiring for Training and placement oppor...        True  \n",
       "570  Job description : We are looking for a strong ...        True  \n",
       "572  Scanslated, Inc is a digital health startup. W...        True  \n",
       "573  Responsibilities: \\n Hands on Python SQL and B...        True  "
      ]
     },
     "execution_count": 9,
     "metadata": {},
     "output_type": "execute_result"
    }
   ],
   "source": [
    "job_text[job_text[\"duplicated\"] == True].head(50)"
   ]
  },
  {
   "cell_type": "code",
   "execution_count": 10,
   "id": "b4ebbc44",
   "metadata": {},
   "outputs": [],
   "source": [
    "job_text.drop(\"duplicated\", axis=1, inplace=True)"
   ]
  },
  {
   "cell_type": "code",
   "execution_count": 11,
   "id": "86d08eb4",
   "metadata": {},
   "outputs": [
    {
     "data": {
      "text/html": [
       "<div>\n",
       "<style scoped>\n",
       "    .dataframe tbody tr th:only-of-type {\n",
       "        vertical-align: middle;\n",
       "    }\n",
       "\n",
       "    .dataframe tbody tr th {\n",
       "        vertical-align: top;\n",
       "    }\n",
       "\n",
       "    .dataframe thead th {\n",
       "        text-align: right;\n",
       "    }\n",
       "</style>\n",
       "<table border=\"1\" class=\"dataframe\">\n",
       "  <thead>\n",
       "    <tr style=\"text-align: right;\">\n",
       "      <th></th>\n",
       "      <th>title</th>\n",
       "      <th>company</th>\n",
       "      <th>text</th>\n",
       "    </tr>\n",
       "  </thead>\n",
       "  <tbody>\n",
       "    <tr>\n",
       "      <th>0</th>\n",
       "      <td>CRM Analyst</td>\n",
       "      <td>None</td>\n",
       "      <td>Summary \\nThe CRM Analyst will work closely wi...</td>\n",
       "    </tr>\n",
       "    <tr>\n",
       "      <th>1</th>\n",
       "      <td>Python Developer</td>\n",
       "      <td>RD Digital Solutions</td>\n",
       "      <td>Job Description Role -  Python Developer W2 op...</td>\n",
       "    </tr>\n",
       "    <tr>\n",
       "      <th>2</th>\n",
       "      <td>Data Engineer - ENTRY LEVEL</td>\n",
       "      <td>None</td>\n",
       "      <td>Responsibilities · Analyze and organize raw da...</td>\n",
       "    </tr>\n",
       "    <tr>\n",
       "      <th>3</th>\n",
       "      <td>Python Developer</td>\n",
       "      <td>None</td>\n",
       "      <td>Aplomb technologies is hiring for python Devel...</td>\n",
       "    </tr>\n",
       "    <tr>\n",
       "      <th>4</th>\n",
       "      <td>Business Intelligence Analyst - entry level</td>\n",
       "      <td>None</td>\n",
       "      <td>Responsibilities: Developing and managing busi...</td>\n",
       "    </tr>\n",
       "    <tr>\n",
       "      <th>...</th>\n",
       "      <td>...</td>\n",
       "      <td>...</td>\n",
       "      <td>...</td>\n",
       "    </tr>\n",
       "    <tr>\n",
       "      <th>1591</th>\n",
       "      <td>None</td>\n",
       "      <td>None</td>\n",
       "      <td></td>\n",
       "    </tr>\n",
       "    <tr>\n",
       "      <th>1592</th>\n",
       "      <td>None</td>\n",
       "      <td>None</td>\n",
       "      <td></td>\n",
       "    </tr>\n",
       "    <tr>\n",
       "      <th>1593</th>\n",
       "      <td>Junior Application Developer</td>\n",
       "      <td>None</td>\n",
       "      <td>Junior Application Developer Dallas, TX Contra...</td>\n",
       "    </tr>\n",
       "    <tr>\n",
       "      <th>1594</th>\n",
       "      <td>C++ Developer</td>\n",
       "      <td>None</td>\n",
       "      <td>Job Title:  C++ Developer \\n Location:  Remote...</td>\n",
       "    </tr>\n",
       "    <tr>\n",
       "      <th>1595</th>\n",
       "      <td>Senior Software Engineer</td>\n",
       "      <td>BenevolentAI</td>\n",
       "      <td>BenevolentAI unites AI with human expertise to...</td>\n",
       "    </tr>\n",
       "  </tbody>\n",
       "</table>\n",
       "<p>1596 rows × 3 columns</p>\n",
       "</div>"
      ],
      "text/plain": [
       "                                            title               company  \\\n",
       "0                                     CRM Analyst                  None   \n",
       "1                                Python Developer  RD Digital Solutions   \n",
       "2                     Data Engineer - ENTRY LEVEL                  None   \n",
       "3                                Python Developer                  None   \n",
       "4     Business Intelligence Analyst - entry level                  None   \n",
       "...                                           ...                   ...   \n",
       "1591                                         None                  None   \n",
       "1592                                         None                  None   \n",
       "1593                 Junior Application Developer                  None   \n",
       "1594                                C++ Developer                  None   \n",
       "1595                     Senior Software Engineer          BenevolentAI   \n",
       "\n",
       "                                                   text  \n",
       "0     Summary \\nThe CRM Analyst will work closely wi...  \n",
       "1     Job Description Role -  Python Developer W2 op...  \n",
       "2     Responsibilities · Analyze and organize raw da...  \n",
       "3     Aplomb technologies is hiring for python Devel...  \n",
       "4     Responsibilities: Developing and managing busi...  \n",
       "...                                                 ...  \n",
       "1591                                                     \n",
       "1592                                                     \n",
       "1593  Junior Application Developer Dallas, TX Contra...  \n",
       "1594  Job Title:  C++ Developer \\n Location:  Remote...  \n",
       "1595  BenevolentAI unites AI with human expertise to...  \n",
       "\n",
       "[1596 rows x 3 columns]"
      ]
     },
     "execution_count": 11,
     "metadata": {},
     "output_type": "execute_result"
    }
   ],
   "source": [
    "job_text"
   ]
  },
  {
   "cell_type": "code",
   "execution_count": 12,
   "id": "fe60712c",
   "metadata": {},
   "outputs": [],
   "source": [
    "job_text.drop_duplicates(inplace=True)"
   ]
  },
  {
   "cell_type": "code",
   "execution_count": 13,
   "id": "9df52aa1",
   "metadata": {},
   "outputs": [
    {
     "data": {
      "text/html": [
       "<div>\n",
       "<style scoped>\n",
       "    .dataframe tbody tr th:only-of-type {\n",
       "        vertical-align: middle;\n",
       "    }\n",
       "\n",
       "    .dataframe tbody tr th {\n",
       "        vertical-align: top;\n",
       "    }\n",
       "\n",
       "    .dataframe thead th {\n",
       "        text-align: right;\n",
       "    }\n",
       "</style>\n",
       "<table border=\"1\" class=\"dataframe\">\n",
       "  <thead>\n",
       "    <tr style=\"text-align: right;\">\n",
       "      <th></th>\n",
       "      <th>title</th>\n",
       "      <th>company</th>\n",
       "      <th>text</th>\n",
       "    </tr>\n",
       "  </thead>\n",
       "  <tbody>\n",
       "    <tr>\n",
       "      <th>0</th>\n",
       "      <td>CRM Analyst</td>\n",
       "      <td>None</td>\n",
       "      <td>Summary \\nThe CRM Analyst will work closely wi...</td>\n",
       "    </tr>\n",
       "    <tr>\n",
       "      <th>1</th>\n",
       "      <td>Python Developer</td>\n",
       "      <td>RD Digital Solutions</td>\n",
       "      <td>Job Description Role -  Python Developer W2 op...</td>\n",
       "    </tr>\n",
       "    <tr>\n",
       "      <th>2</th>\n",
       "      <td>Data Engineer - ENTRY LEVEL</td>\n",
       "      <td>None</td>\n",
       "      <td>Responsibilities · Analyze and organize raw da...</td>\n",
       "    </tr>\n",
       "    <tr>\n",
       "      <th>3</th>\n",
       "      <td>Python Developer</td>\n",
       "      <td>None</td>\n",
       "      <td>Aplomb technologies is hiring for python Devel...</td>\n",
       "    </tr>\n",
       "    <tr>\n",
       "      <th>4</th>\n",
       "      <td>Business Intelligence Analyst - entry level</td>\n",
       "      <td>None</td>\n",
       "      <td>Responsibilities: Developing and managing busi...</td>\n",
       "    </tr>\n",
       "    <tr>\n",
       "      <th>...</th>\n",
       "      <td>...</td>\n",
       "      <td>...</td>\n",
       "      <td>...</td>\n",
       "    </tr>\n",
       "    <tr>\n",
       "      <th>1589</th>\n",
       "      <td>Innovation Software Engineer</td>\n",
       "      <td>None</td>\n",
       "      <td>At PLEXSYS, our teams design, build and delive...</td>\n",
       "    </tr>\n",
       "    <tr>\n",
       "      <th>1590</th>\n",
       "      <td>Devops Developer</td>\n",
       "      <td>None</td>\n",
       "      <td>** Remote 100% / W2 ONLY / NO C2C ** \\nDescrip...</td>\n",
       "    </tr>\n",
       "    <tr>\n",
       "      <th>1593</th>\n",
       "      <td>Junior Application Developer</td>\n",
       "      <td>None</td>\n",
       "      <td>Junior Application Developer Dallas, TX Contra...</td>\n",
       "    </tr>\n",
       "    <tr>\n",
       "      <th>1594</th>\n",
       "      <td>C++ Developer</td>\n",
       "      <td>None</td>\n",
       "      <td>Job Title:  C++ Developer \\n Location:  Remote...</td>\n",
       "    </tr>\n",
       "    <tr>\n",
       "      <th>1595</th>\n",
       "      <td>Senior Software Engineer</td>\n",
       "      <td>BenevolentAI</td>\n",
       "      <td>BenevolentAI unites AI with human expertise to...</td>\n",
       "    </tr>\n",
       "  </tbody>\n",
       "</table>\n",
       "<p>1403 rows × 3 columns</p>\n",
       "</div>"
      ],
      "text/plain": [
       "                                            title               company  \\\n",
       "0                                     CRM Analyst                  None   \n",
       "1                                Python Developer  RD Digital Solutions   \n",
       "2                     Data Engineer - ENTRY LEVEL                  None   \n",
       "3                                Python Developer                  None   \n",
       "4     Business Intelligence Analyst - entry level                  None   \n",
       "...                                           ...                   ...   \n",
       "1589                 Innovation Software Engineer                  None   \n",
       "1590                             Devops Developer                  None   \n",
       "1593                 Junior Application Developer                  None   \n",
       "1594                                C++ Developer                  None   \n",
       "1595                     Senior Software Engineer          BenevolentAI   \n",
       "\n",
       "                                                   text  \n",
       "0     Summary \\nThe CRM Analyst will work closely wi...  \n",
       "1     Job Description Role -  Python Developer W2 op...  \n",
       "2     Responsibilities · Analyze and organize raw da...  \n",
       "3     Aplomb technologies is hiring for python Devel...  \n",
       "4     Responsibilities: Developing and managing busi...  \n",
       "...                                                 ...  \n",
       "1589  At PLEXSYS, our teams design, build and delive...  \n",
       "1590  ** Remote 100% / W2 ONLY / NO C2C ** \\nDescrip...  \n",
       "1593  Junior Application Developer Dallas, TX Contra...  \n",
       "1594  Job Title:  C++ Developer \\n Location:  Remote...  \n",
       "1595  BenevolentAI unites AI with human expertise to...  \n",
       "\n",
       "[1403 rows x 3 columns]"
      ]
     },
     "execution_count": 13,
     "metadata": {},
     "output_type": "execute_result"
    }
   ],
   "source": [
    "job_text"
   ]
  },
  {
   "cell_type": "code",
   "execution_count": 14,
   "id": "791ea316",
   "metadata": {},
   "outputs": [
    {
     "data": {
      "text/plain": [
       "title      758\n",
       "company      0\n",
       "text       759\n",
       "dtype: int64"
      ]
     },
     "execution_count": 14,
     "metadata": {},
     "output_type": "execute_result"
    }
   ],
   "source": [
    "job_text[job_text[\"company\"].isna() == True].count()"
   ]
  },
  {
   "cell_type": "code",
   "execution_count": 15,
   "id": "3c3c2ae0",
   "metadata": {},
   "outputs": [],
   "source": [
    "import spacy\n",
    "nlp = spacy.load(\"en_core_web_sm\")"
   ]
  },
  {
   "cell_type": "code",
   "execution_count": 16,
   "id": "2bce2a8d",
   "metadata": {},
   "outputs": [],
   "source": [
    "docs = list(nlp.pipe(job_text.text))"
   ]
  },
  {
   "cell_type": "code",
   "execution_count": 23,
   "id": "91da93d9",
   "metadata": {},
   "outputs": [],
   "source": [
    "def show_ents(doc):\n",
    "    if doc.ents:\n",
    "        for ent in doc.ents:\n",
    "            print(ent.text+' - ' + ent.label_+ ' - '+str(spacy.explain(ent.label_)))\n",
    "    else:\n",
    "        print(\"No named entities found.\")"
   ]
  },
  {
   "cell_type": "code",
   "execution_count": 24,
   "id": "46e1111b",
   "metadata": {},
   "outputs": [
    {
     "name": "stdout",
     "output_type": "stream",
     "text": [
      "6+ years - DATE - Absolute or relative dates or periods\n",
      "Java - PERSON - People, including fictional\n",
      "Python (Serverless - ORG - Companies, agencies, institutions, etc.\n",
      "Agile Dev - PERSON - People, including fictional\n",
      "Jenkins - GPE - Countries, cities, states\n",
      "CDK - ORG - Companies, agencies, institutions, etc.\n",
      "Presto/Superset/Druid - ORG - Companies, agencies, institutions, etc.\n",
      "AWS Knowledge, Development Practices - ORG - Companies, agencies, institutions, etc.\n",
      "6+ month - DATE - Absolute or relative dates or periods\n",
      "- Remote - PERSON - People, including fictional\n",
      "34.00 - MONEY - Monetary values, including unit\n",
      "80.00 - MONEY - Monetary values, including unit\n",
      "Application Question(s - PERSON - People, including fictional\n",
      "6 years - DATE - Absolute or relative dates or periods\n",
      "5 years - DATE - Absolute or relative dates or periods\n",
      "5 years - DATE - Absolute or relative dates or periods\n"
     ]
    }
   ],
   "source": [
    "show_ents(docs[1])"
   ]
  },
  {
   "cell_type": "code",
   "execution_count": 26,
   "id": "65d428a2",
   "metadata": {},
   "outputs": [
    {
     "data": {
      "text/plain": [
       "We Are Looking For H1B,CPT And OPT Visa Candidates W2 Contract Position (Authorized to work anywhere in the USA) Requirements:  Client is seeking Python Developer. The Developer is expected to learn the business and technical components of an application and work with their peers to follow enterprise software development methodologies. Grow your career in our dynamic and fast paced environment of diverse software platforms and challenging projects that shape the future of the banking industry. Required Qualifications: Bachelor's degree or foreign equivalent required from an accredited institution. Will also consider three years of progressive experience in the specialty in lieu of every year of education At least 4 years of Information Technology experience Experience in Python development. Strong understanding of Python Memory Management and concurrency (GIL) Sounds Knowledge of Software engineering design patterns and practices In depth knowledge and experience with Data structures and Collection Benefits Competitive salary Flexible work schedule & part-time off E-verified H1B Filing No relocation On job technical support Skill Enhancement Opportunity to work with Fortune 500 Companies Job Types: Full-time, Part-time, Contract Pay: $40.00 - $77.00 per hour Schedule: 8 hour shift Education: Bachelor's (Preferred) Work Location: Remote"
      ]
     },
     "execution_count": 26,
     "metadata": {},
     "output_type": "execute_result"
    }
   ],
   "source": [
    "show_ents(docs[34])"
   ]
  },
  {
   "cell_type": "code",
   "execution_count": 27,
   "id": "0031cfd9",
   "metadata": {},
   "outputs": [
    {
     "name": "stdout",
     "output_type": "stream",
     "text": [
      "CPT - ORG - Companies, agencies, institutions, etc.\n",
      "W2 Contract Position - ORG - Companies, agencies, institutions, etc.\n",
      "USA - GPE - Countries, cities, states\n",
      "Python Developer - ORG - Companies, agencies, institutions, etc.\n",
      "Developer - ORG - Companies, agencies, institutions, etc.\n",
      "Bachelor - ORG - Companies, agencies, institutions, etc.\n",
      "three years - DATE - Absolute or relative dates or periods\n",
      "At least 4 years - DATE - Absolute or relative dates or periods\n",
      "Information Technology - ORG - Companies, agencies, institutions, etc.\n",
      "Python Memory Management - ORG - Companies, agencies, institutions, etc.\n",
      "Data - ORG - Companies, agencies, institutions, etc.\n",
      "Collection Benefits Competitive - ORG - Companies, agencies, institutions, etc.\n",
      "Fortune 500 Companies Job Types: Full-time - ORG - Companies, agencies, institutions, etc.\n",
      "40.00 - MONEY - Monetary values, including unit\n",
      "77.00 - MONEY - Monetary values, including unit\n",
      "8 hour - TIME - Times smaller than a day\n",
      "Bachelor - ORG - Companies, agencies, institutions, etc.\n"
     ]
    }
   ],
   "source": [
    "show_ents(docs[34])"
   ]
  },
  {
   "cell_type": "code",
   "execution_count": 28,
   "id": "fd75de54",
   "metadata": {},
   "outputs": [
    {
     "name": "stdout",
     "output_type": "stream",
     "text": [
      "CPT - ORG - Companies, agencies, institutions, etc.\n",
      "W2 Contract Position - ORG - Companies, agencies, institutions, etc.\n",
      "USA - GPE - Countries, cities, states\n",
      "Python Developer - ORG - Companies, agencies, institutions, etc.\n",
      "Developer - ORG - Companies, agencies, institutions, etc.\n",
      "Bachelor - ORG - Companies, agencies, institutions, etc.\n",
      "three years - DATE - Absolute or relative dates or periods\n",
      "At least 4 years - DATE - Absolute or relative dates or periods\n",
      "Information Technology - ORG - Companies, agencies, institutions, etc.\n",
      "Python Memory Management - ORG - Companies, agencies, institutions, etc.\n",
      "Data - ORG - Companies, agencies, institutions, etc.\n",
      "Collection Benefits Competitive - ORG - Companies, agencies, institutions, etc.\n",
      "Fortune 500 Companies Job Types: Full-time - ORG - Companies, agencies, institutions, etc.\n",
      "40.00 - MONEY - Monetary values, including unit\n",
      "77.00 - MONEY - Monetary values, including unit\n",
      "8 hour - TIME - Times smaller than a day\n",
      "Bachelor - ORG - Companies, agencies, institutions, etc.\n"
     ]
    }
   ],
   "source": [
    "show_ents(docs[34])"
   ]
  },
  {
   "cell_type": "code",
   "execution_count": 32,
   "id": "a94a45a3",
   "metadata": {},
   "outputs": [],
   "source": [
    "def get_ents(doc):\n",
    "    if doc.ents:\n",
    "        return [ent.text for ent in doc.ents]\n",
    "    else:\n",
    "        pass"
   ]
  },
  {
   "cell_type": "code",
   "execution_count": 46,
   "id": "5203d9e7",
   "metadata": {},
   "outputs": [],
   "source": [
    "from pandas.core.common import flatten\n"
   ]
  },
  {
   "cell_type": "code",
   "execution_count": null,
   "id": "22c32c5e",
   "metadata": {},
   "outputs": [],
   "source": []
  },
  {
   "cell_type": "code",
   "execution_count": 78,
   "id": "74a170d0",
   "metadata": {},
   "outputs": [
    {
     "data": {
      "text/plain": [
       "11931"
      ]
     },
     "execution_count": 78,
     "metadata": {},
     "output_type": "execute_result"
    }
   ],
   "source": [
    "len(entity_counts)"
   ]
  },
  {
   "cell_type": "code",
   "execution_count": 77,
   "id": "6f5b4afc",
   "metadata": {},
   "outputs": [
    {
     "data": {
      "text/plain": [
       "35687"
      ]
     },
     "execution_count": 77,
     "metadata": {},
     "output_type": "execute_result"
    }
   ],
   "source": [
    "len(ents)"
   ]
  },
  {
   "cell_type": "code",
   "execution_count": 54,
   "id": "80f2004e",
   "metadata": {},
   "outputs": [],
   "source": [
    "ents = pd.Series(list(flatten([get_ents(doc) for doc in docs])))"
   ]
  },
  {
   "cell_type": "code",
   "execution_count": 56,
   "id": "e802b8c4",
   "metadata": {},
   "outputs": [],
   "source": [
    "entity_counts = ents.value_counts()"
   ]
  },
  {
   "cell_type": "code",
   "execution_count": 64,
   "id": "b9e0b5c5",
   "metadata": {},
   "outputs": [
    {
     "data": {
      "image/png": "[encoded data removed]",
      "text/plain": [
       "<Figure size 432x288 with 1 Axes>"
      ]
     },
     "metadata": {
      "needs_background": "light"
     },
     "output_type": "display_data"
    }
   ],
   "source": [
    "entity_counts[:30].plot(kind=\"bar\");"
   ]
  },
  {
   "cell_type": "code",
   "execution_count": 67,
   "id": "c4b6326c",
   "metadata": {},
   "outputs": [
    {
     "data": {
      "text/plain": [
       "An associate business analyst will review the process requirements by communicating with the clients or users. He helps in the documentation of client requirements which makes it easy for the product developers to go ahead with a business plan or designing and developing a product. Job description Responsibilities: · Provides plan with data, reporting and analyses that enable data driven decision making. · Provides summary analyses in written and oral presentation settings. · Builds database from scratch. And prepares complex presentations. · Develops system test cases and documents results, researches system issues and documents findings. Requirements: _ Understanding of database objects (entities, attributes, constraints, relationships, joins, etc.) Good logic-building skills Ability to write DDL/DML/DQL (any RDBMS) queries Good technical presentation & delivery skills Exposure to any programming language (C, C++, VB, Python, R, etc.) Ability to translate business requirements into non-technical, lay terms High-level written and verbal communication skills Experience with other relational databases, BI reporting and data discovery tools is preferred (PowerBI, Tableau, SQL Server, Snowflake, MS Azure Education: Bachelor’s degree in Science, Technology, Engineering or Mathematics ' Work Location: Multiple locations Work Remotely Temporarily due to COVID-19 Job Type: Full-time Pay: $60,000.00 - $70,000.00 per year Benefits: Dental insurance Health insurance Relocation assistance Vision insurance Schedule: 8 hour shift Work Location: Multiple Locations Speak with the employer +91 8584354882"
      ]
     },
     "execution_count": 67,
     "metadata": {},
     "output_type": "execute_result"
    }
   ],
   "source": [
    "docs[100]"
   ]
  },
  {
   "cell_type": "code",
   "execution_count": 68,
   "id": "5c4d27f0",
   "metadata": {},
   "outputs": [
    {
     "name": "stdout",
     "output_type": "stream",
     "text": [
      "Builds - PERSON - People, including fictional\n",
      "DDL/DML/DQL - ORG - Companies, agencies, institutions, etc.\n",
      "C++ - GPE - Countries, cities, states\n",
      "BI - GPE - Countries, cities, states\n",
      "PowerBI - ORG - Companies, agencies, institutions, etc.\n",
      "Tableau - GPE - Countries, cities, states\n",
      "SQL Server - ORG - Companies, agencies, institutions, etc.\n",
      "Snowflake, MS Azure Education - ORG - Companies, agencies, institutions, etc.\n",
      "Science, Technology - ORG - Companies, agencies, institutions, etc.\n",
      "Mathematics ' Work Location: Multiple locations Work Remotely Temporarily - WORK_OF_ART - Titles of books, songs, etc.\n",
      "COVID-19 Job Type: Full - PERSON - People, including fictional\n",
      "$60,000.00 - $70,000.00 - MONEY - Monetary values, including unit\n",
      "Schedule - ORG - Companies, agencies, institutions, etc.\n",
      "8 hour - TIME - Times smaller than a day\n",
      "Work Location: Multiple Locations Speak - WORK_OF_ART - Titles of books, songs, etc.\n",
      "8584354882 - DATE - Absolute or relative dates or periods\n"
     ]
    }
   ],
   "source": [
    "show_ents(docs[100])"
   ]
  },
  {
   "cell_type": "code",
   "execution_count": 69,
   "id": "3770c8e3",
   "metadata": {},
   "outputs": [
    {
     "data": {
      "text/plain": [
       "Runtime Working                                                                                   1\n",
       "Web AppBuilder                                                                                    1\n",
       "Creating                                                                                          1\n",
       "Hawaii                                                                                            1\n",
       "Frederick                                                                                         1\n",
       "20000-1, 270001                                                                                   1\n",
       "Federal Solutions                                                                                 1\n",
       "The Jr. Salesforce Developer                                                                      1\n",
       "Junior Full Stack Developer                                                                       1\n",
       "Angular.js                                                                                        1\n",
       "Maria DB                                                                                          1\n",
       "the Shelf Products (COTS                                                                          1\n",
       "Using Docker and Kubernetes                                                                       1\n",
       "Jr. Salesforce Developers                                                                         1\n",
       "The Global Cyber Defense & Design                                                                 1\n",
       "the SAP Global Security Organization                                                              1\n",
       "the Office of the                                                                                 1\n",
       "Credit Expense Forecasting Process                                                                1\n",
       "USD                                                                                               1\n",
       "MDL                                                                                               1\n",
       "Credit Risk Forecasting                                                                           1\n",
       "Microservices                                                                                     1\n",
       "SAS Code                                                                                          1\n",
       "EMR PySpark Performance                                                                           1\n",
       "Parallel                                                                                          1\n",
       "The SAP Global Cyber Defense & Design Team                                                        1\n",
       "Apigee                                                                                            1\n",
       "API Framework                                                                                     1\n",
       "At least 5+ years                                                                                 1\n",
       "PySpark/EMR                                                                                       1\n",
       "Skills Job Type: Full-time                                                                        1\n",
       "Coding \\n Need Functional Testers \\n                                                              1\n",
       "UE4                                                                                               1\n",
       "Python, Perforce                                                                                  1\n",
       "OV                                                                                                1\n",
       "6 + months                                                                                        1\n",
       "May 2022                                                                                          1\n",
       "Design Thinking & User Experience                                                                 1\n",
       "Ford College Graduate Program                                                                     1\n",
       "Allen Park \\n Ford Motor Company \\n Mobility Solutions \\n Job Description & Qualifications \\n     1\n",
       "Virtual - USA                                                                                     1\n",
       "0 - 10%                                                                                           1\n",
       "Careers@sap.com                                                                                   1\n",
       "APJ                                                                                               1\n",
       "Careers.LatinAmerica@sap.com                                                                      1\n",
       "Recruiting Operations Team: Americas                                                              1\n",
       "200 million                                                                                       1\n",
       "more than 400,000                                                                                 1\n",
       "SAP Global Cyber Defense and Design                                                               1\n",
       "JavaPython                                                                                        1\n",
       "dtype: int64"
      ]
     },
     "execution_count": 69,
     "metadata": {},
     "output_type": "execute_result"
    }
   ],
   "source": [
    "entity_counts.tail(50)"
   ]
  },
  {
   "cell_type": "code",
   "execution_count": 73,
   "id": "c768c763",
   "metadata": {},
   "outputs": [
    {
     "data": {
      "text/plain": [
       "SQL                  430\n",
       "JavaScript           362\n",
       "1 year               325\n",
       "Bachelor             318\n",
       "one                  301\n",
       "Python               294\n",
       "Java                 261\n",
       "US                   254\n",
       "8 hour               242\n",
       "Schedule             231\n",
       "IBM                  221\n",
       "Monday               197\n",
       "Computer Science     188\n",
       "C++                  184\n",
       "Friday               178\n",
       "5 years              178\n",
       "3 years              168\n",
       "CI                   165\n",
       "2 years              165\n",
       "Git                  163\n",
       "3+ years             159\n",
       "DevOps               159\n",
       "One                  156\n",
       "Dental               155\n",
       "#                    154\n",
       "U.S.                 152\n",
       "API                  149\n",
       "100%                 138\n",
       "5+ years             135\n",
       "2+ years             131\n",
       "third                131\n",
       "at least one         130\n",
       "first                127\n",
       "the United States    127\n",
       "CSS                  126\n",
       "ETL                  112\n",
       "PHP                  107\n",
       "AI                   103\n",
       "Tableau              100\n",
       "Javascript            99\n",
       "Docker                96\n",
       "Vision                94\n",
       "daily                 92\n",
       "today                 90\n",
       "New York              89\n",
       "3                     89\n",
       "Microsoft             88\n",
       "Job Type: Full        83\n",
       "COVID-19              81\n",
       "UI                    81\n",
       "dtype: int64"
      ]
     },
     "execution_count": 73,
     "metadata": {},
     "output_type": "execute_result"
    }
   ],
   "source": [
    "entity_counts.head(50)"
   ]
  },
  {
   "cell_type": "code",
   "execution_count": null,
   "id": "6ea0fa5d",
   "metadata": {},
   "outputs": [],
   "source": []
  },
  {
   "cell_type": "code",
   "execution_count": 83,
   "id": "d1837e62",
   "metadata": {},
   "outputs": [
    {
     "data": {
      "image/png": "[encoded data removed]",
      "text/plain": [
       "<Figure size 432x288 with 1 Axes>"
      ]
     },
     "metadata": {
      "needs_background": "light"
     },
     "output_type": "display_data"
    }
   ],
   "source": [
    "entity_counts[:500].plot();"
   ]
  },
  {
   "cell_type": "code",
   "execution_count": 84,
   "id": "84e1c40f",
   "metadata": {},
   "outputs": [],
   "source": [
    "from spacy.matcher import Matcher"
   ]
  },
  {
   "cell_type": "code",
   "execution_count": 85,
   "id": "7334b52b",
   "metadata": {},
   "outputs": [],
   "source": [
    "matcher = Matcher(nlp.vocab)"
   ]
  },
  {
   "cell_type": "code",
   "execution_count": 105,
   "id": "2759039d",
   "metadata": {},
   "outputs": [],
   "source": [
    "patterns = [\n",
    "    [{\"LOWER\": \"javascript\"}],\n",
    "    [{\"LOWER\": \"python\"}],\n",
    "    [{\"LOWER\": \"sql\"}],\n",
    "    [{\"LOWER\": \"java\"}],\n",
    "    [{\"LOWER\": \"c++\"}],\n",
    "    [{\"LOWER\": \"api\"}],\n",
    "    [{\"LOWER\": \"docker\"}],\n",
    "    [{\"LOWER\": \"tableau\"}],\n",
    "    [{\"LOWER\": \"css\"}],\n",
    "    [{\"LOWER\": \"php\"}],\n",
    "    [{\"LOWER\": \"c#\"}],\n",
    "    [{\"LOWER\": \"ci\"}],\n",
    "    [{\"LOWER\": \"devops\"}],\n",
    "    [{\"LOWER\": \"c\"}],\n",
    "    [{\"LOWER\": \"git\"}],\n",
    "]"
   ]
  },
  {
   "cell_type": "code",
   "execution_count": 106,
   "id": "64b6762c",
   "metadata": {},
   "outputs": [],
   "source": [
    "matcher.add(\"SKILLS\", patterns)"
   ]
  },
  {
   "cell_type": "code",
   "execution_count": 107,
   "id": "bf4700a6",
   "metadata": {},
   "outputs": [],
   "source": [
    "matches = matcher(docs[0])"
   ]
  },
  {
   "cell_type": "code",
   "execution_count": 108,
   "id": "a05fa7cf",
   "metadata": {},
   "outputs": [
    {
     "data": {
      "text/plain": [
       "[(16498319728200408761, 362, 363),\n",
       " (16498319728200408761, 377, 378),\n",
       " (16498319728200408761, 393, 394)]"
      ]
     },
     "execution_count": 108,
     "metadata": {},
     "output_type": "execute_result"
    }
   ],
   "source": [
    "matches"
   ]
  },
  {
   "cell_type": "code",
   "execution_count": 112,
   "id": "48396e68",
   "metadata": {},
   "outputs": [
    {
     "name": "stdout",
     "output_type": "stream",
     "text": [
      "sql SKILLS\n",
      "python SKILLS\n",
      "tableau SKILLS\n"
     ]
    }
   ],
   "source": [
    "for match_id, start, end in matches:\n",
    "    string_id = nlp.vocab.strings[match_id]\n",
    "    span = docs[0][start:end]\n",
    "    print(span.text.lower(), string_id)"
   ]
  },
  {
   "cell_type": "code",
   "execution_count": 128,
   "id": "0afd8386",
   "metadata": {},
   "outputs": [],
   "source": [
    "def show_matches(matches):\n",
    "    matches_text = []\n",
    "    for match_id, start, end in matches:\n",
    "        string_id = nlp.vocab.strings[match_id]\n",
    "        span = docs[0][start:end]\n",
    "        if string_id == \"SKILL\":\n",
    "            matches_text.append(span.text.lower())\n",
    "    return matches_text\n",
    "    "
   ]
  },
  {
   "cell_type": "code",
   "execution_count": 129,
   "id": "4f456934",
   "metadata": {},
   "outputs": [
    {
     "data": {
      "text/plain": [
       "[]"
      ]
     },
     "execution_count": 129,
     "metadata": {},
     "output_type": "execute_result"
    }
   ],
   "source": []
  },
  {
   "cell_type": "code",
   "execution_count": 130,
   "id": "973e1c96",
   "metadata": {},
   "outputs": [
    {
     "data": {
      "text/plain": [
       "An associate business analyst will review the process requirements by communicating with the clients or users. He helps in the documentation of client requirements which makes it easy for the product developers to go ahead with a business plan or designing and developing a product. Job description Responsibilities: · Provides plan with data, reporting and analyses that enable data driven decision making. · Provides summary analyses in written and oral presentation settings. · Builds database from scratch. And prepares complex presentations. · Develops system test cases and documents results, researches system issues and documents findings. Requirements: _ Understanding of database objects (entities, attributes, constraints, relationships, joins, etc.) Good logic-building skills Ability to write DDL/DML/DQL (any RDBMS) queries Good technical presentation & delivery skills Exposure to any programming language (C, C++, VB, Python, R, etc.) Ability to translate business requirements into non-technical, lay terms High-level written and verbal communication skills Experience with other relational databases, BI reporting and data discovery tools is preferred (PowerBI, Tableau, SQL Server, Snowflake, MS Azure Education: Bachelor’s degree in Science, Technology, Engineering or Mathematics ' Work Location: Multiple locations Work Remotely Temporarily due to COVID-19 Job Type: Full-time Pay: $60,000.00 - $70,000.00 per year Benefits: Dental insurance Health insurance Relocation assistance Vision insurance Schedule: 8 hour shift Work Location: Multiple Locations Speak with the employer +91 8584354882"
      ]
     },
     "execution_count": 130,
     "metadata": {},
     "output_type": "execute_result"
    }
   ],
   "source": [
    "docs[100]"
   ]
  },
  {
   "cell_type": "code",
   "execution_count": 127,
   "id": "f71a8b40",
   "metadata": {},
   "outputs": [
    {
     "data": {
      "text/plain": [
       "['support', 'activation', 'business', 'to', 'a']"
      ]
     },
     "execution_count": 127,
     "metadata": {},
     "output_type": "execute_result"
    }
   ],
   "source": []
  },
  {
   "cell_type": "code",
   "execution_count": null,
   "id": "75159447",
   "metadata": {},
   "outputs": [],
   "source": []
  }
 ],
 "metadata": {
  "kernelspec": {
   "display_name": "Python 3 (ipykernel)",
   "language": "python",
   "name": "python3"
  },
  "language_info": {
   "codemirror_mode": {
    "name": "ipython",
    "version": 3
   },
   "file_extension": ".py",
   "mimetype": "text/x-python",
   "name": "python",
   "nbconvert_exporter": "python",
   "pygments_lexer": "ipython3",
   "version": "3.8.12"
  }
 },
 "nbformat": 4,
 "nbformat_minor": 5
}
