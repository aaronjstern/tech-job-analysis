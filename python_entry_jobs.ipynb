{
 "cells": [
  {
   "cell_type": "markdown",
   "id": "f7353d69",
   "metadata": {},
   "source": [
    "# Developer/Programmer Jobs Ads Analysis\n",
    "    \n",
    "This data set was built using job ads from indeed.com, generated as a response to the general queries \"programmer\" and \"developer\". "
   ]
  },
  {
   "cell_type": "code",
   "execution_count": 1,
   "id": "89edf52e",
   "metadata": {},
   "outputs": [],
   "source": [
    "import pandas as pd"
   ]
  },
  {
   "cell_type": "code",
   "execution_count": 2,
   "id": "279967f6",
   "metadata": {},
   "outputs": [],
   "source": [
    "scraped_job_data = pd.read_json(\"/Users/aaron/indeed/indeed/spiders/more.json\")"
   ]
  },
  {
   "cell_type": "code",
   "execution_count": 3,
   "id": "747156f8",
   "metadata": {},
   "outputs": [
    {
     "data": {
      "text/html": [
       "<div>\n",
       "<style scoped>\n",
       "    .dataframe tbody tr th:only-of-type {\n",
       "        vertical-align: middle;\n",
       "    }\n",
       "\n",
       "    .dataframe tbody tr th {\n",
       "        vertical-align: top;\n",
       "    }\n",
       "\n",
       "    .dataframe thead th {\n",
       "        text-align: right;\n",
       "    }\n",
       "</style>\n",
       "<table border=\"1\" class=\"dataframe\">\n",
       "  <thead>\n",
       "    <tr style=\"text-align: right;\">\n",
       "      <th></th>\n",
       "      <th>title</th>\n",
       "      <th>job_details</th>\n",
       "      <th>qualifications</th>\n",
       "      <th>benefits</th>\n",
       "      <th>full_job_description</th>\n",
       "    </tr>\n",
       "  </thead>\n",
       "  <tbody>\n",
       "    <tr>\n",
       "      <th>0</th>\n",
       "      <td>Python Developer</td>\n",
       "      <td>[Job details, Salary, $80,000 - $120,000 a yea...</td>\n",
       "      <td>[Qualifications, Bachelor's (Preferred), REST:...</td>\n",
       "      <td>[]</td>\n",
       "      <td>[Write effective, scalable code, Develop back-...</td>\n",
       "    </tr>\n",
       "    <tr>\n",
       "      <th>1</th>\n",
       "      <td>Associate Developer (Remote)</td>\n",
       "      <td>[]</td>\n",
       "      <td>[]</td>\n",
       "      <td>[]</td>\n",
       "      <td>[Nationwide/Remote, \\n, Associate Developer at...</td>\n",
       "    </tr>\n",
       "    <tr>\n",
       "      <th>2</th>\n",
       "      <td>C# Developer</td>\n",
       "      <td>[]</td>\n",
       "      <td>[]</td>\n",
       "      <td>[]</td>\n",
       "      <td>[Pricing Developer, \\nWhippany, NJ, \\n, As a B...</td>\n",
       "    </tr>\n",
       "    <tr>\n",
       "      <th>3</th>\n",
       "      <td>Web Developer</td>\n",
       "      <td>[Job details, Job Type, Full-time]</td>\n",
       "      <td>[]</td>\n",
       "      <td>[]</td>\n",
       "      <td>[Position Responsibilities:, Qualifications:, ...</td>\n",
       "    </tr>\n",
       "    <tr>\n",
       "      <th>4</th>\n",
       "      <td>Jr. Software Developer</td>\n",
       "      <td>[Job details, Salary, $65,000 - $90,000 a year...</td>\n",
       "      <td>[Qualifications, Bachelor's (Preferred), Node....</td>\n",
       "      <td>[]</td>\n",
       "      <td>[Job Title: Jr. Software Developer, Location: ...</td>\n",
       "    </tr>\n",
       "  </tbody>\n",
       "</table>\n",
       "</div>"
      ],
      "text/plain": [
       "                          title  \\\n",
       "0              Python Developer   \n",
       "1  Associate Developer (Remote)   \n",
       "2                  C# Developer   \n",
       "3                 Web Developer   \n",
       "4        Jr. Software Developer   \n",
       "\n",
       "                                         job_details  \\\n",
       "0  [Job details, Salary, $80,000 - $120,000 a yea...   \n",
       "1                                                 []   \n",
       "2                                                 []   \n",
       "3                 [Job details, Job Type, Full-time]   \n",
       "4  [Job details, Salary, $65,000 - $90,000 a year...   \n",
       "\n",
       "                                      qualifications benefits  \\\n",
       "0  [Qualifications, Bachelor's (Preferred), REST:...       []   \n",
       "1                                                 []       []   \n",
       "2                                                 []       []   \n",
       "3                                                 []       []   \n",
       "4  [Qualifications, Bachelor's (Preferred), Node....       []   \n",
       "\n",
       "                                full_job_description  \n",
       "0  [Write effective, scalable code, Develop back-...  \n",
       "1  [Nationwide/Remote, \\n, Associate Developer at...  \n",
       "2  [Pricing Developer, \\nWhippany, NJ, \\n, As a B...  \n",
       "3  [Position Responsibilities:, Qualifications:, ...  \n",
       "4  [Job Title: Jr. Software Developer, Location: ...  "
      ]
     },
     "execution_count": 3,
     "metadata": {},
     "output_type": "execute_result"
    }
   ],
   "source": [
    "scraped_job_data.head()"
   ]
  },
  {
   "cell_type": "code",
   "execution_count": 4,
   "id": "483f1b5e",
   "metadata": {},
   "outputs": [
    {
     "name": "stdout",
     "output_type": "stream",
     "text": [
      "<class 'pandas.core.frame.DataFrame'>\n",
      "RangeIndex: 3655 entries, 0 to 3654\n",
      "Data columns (total 5 columns):\n",
      " #   Column                Non-Null Count  Dtype \n",
      "---  ------                --------------  ----- \n",
      " 0   title                 3648 non-null   object\n",
      " 1   job_details           3655 non-null   object\n",
      " 2   qualifications        3655 non-null   object\n",
      " 3   benefits              3655 non-null   object\n",
      " 4   full_job_description  3655 non-null   object\n",
      "dtypes: object(5)\n",
      "memory usage: 142.9+ KB\n"
     ]
    }
   ],
   "source": [
    "scraped_job_data.info()"
   ]
  },
  {
   "cell_type": "markdown",
   "id": "8a7e9ad3",
   "metadata": {},
   "source": [
    "### Check for empty values in columns\n",
    "    astype(bool) will filter out empty rows. "
   ]
  },
  {
   "cell_type": "code",
   "execution_count": 5,
   "id": "25f13494",
   "metadata": {
    "scrolled": true
   },
   "outputs": [
    {
     "data": {
      "text/plain": [
       "2950"
      ]
     },
     "execution_count": 5,
     "metadata": {},
     "output_type": "execute_result"
    }
   ],
   "source": [
    "len(scraped_job_data[scraped_job_data.job_details.astype(bool)])"
   ]
  },
  {
   "cell_type": "code",
   "execution_count": 6,
   "id": "4af047ac",
   "metadata": {
    "scrolled": true
   },
   "outputs": [
    {
     "data": {
      "text/plain": [
       "1190"
      ]
     },
     "execution_count": 6,
     "metadata": {},
     "output_type": "execute_result"
    }
   ],
   "source": [
    "len(scraped_job_data[scraped_job_data.qualifications.astype(bool)])"
   ]
  },
  {
   "cell_type": "code",
   "execution_count": 7,
   "id": "d2b125f2",
   "metadata": {},
   "outputs": [
    {
     "data": {
      "text/html": [
       "<div>\n",
       "<style scoped>\n",
       "    .dataframe tbody tr th:only-of-type {\n",
       "        vertical-align: middle;\n",
       "    }\n",
       "\n",
       "    .dataframe tbody tr th {\n",
       "        vertical-align: top;\n",
       "    }\n",
       "\n",
       "    .dataframe thead th {\n",
       "        text-align: right;\n",
       "    }\n",
       "</style>\n",
       "<table border=\"1\" class=\"dataframe\">\n",
       "  <thead>\n",
       "    <tr style=\"text-align: right;\">\n",
       "      <th></th>\n",
       "      <th>title</th>\n",
       "      <th>job_details</th>\n",
       "      <th>qualifications</th>\n",
       "      <th>benefits</th>\n",
       "      <th>full_job_description</th>\n",
       "    </tr>\n",
       "  </thead>\n",
       "  <tbody>\n",
       "    <tr>\n",
       "      <th>0</th>\n",
       "      <td>Python Developer</td>\n",
       "      <td>[Job details, Salary, $80,000 - $120,000 a yea...</td>\n",
       "      <td>[Qualifications, Bachelor's (Preferred), REST:...</td>\n",
       "      <td>[]</td>\n",
       "      <td>[Write effective, scalable code, Develop back-...</td>\n",
       "    </tr>\n",
       "    <tr>\n",
       "      <th>1</th>\n",
       "      <td>Associate Developer (Remote)</td>\n",
       "      <td>[]</td>\n",
       "      <td>[]</td>\n",
       "      <td>[]</td>\n",
       "      <td>[Nationwide/Remote, \\n, Associate Developer at...</td>\n",
       "    </tr>\n",
       "    <tr>\n",
       "      <th>2</th>\n",
       "      <td>C# Developer</td>\n",
       "      <td>[]</td>\n",
       "      <td>[]</td>\n",
       "      <td>[]</td>\n",
       "      <td>[Pricing Developer, \\nWhippany, NJ, \\n, As a B...</td>\n",
       "    </tr>\n",
       "    <tr>\n",
       "      <th>3</th>\n",
       "      <td>Web Developer</td>\n",
       "      <td>[Job details, Job Type, Full-time]</td>\n",
       "      <td>[]</td>\n",
       "      <td>[]</td>\n",
       "      <td>[Position Responsibilities:, Qualifications:, ...</td>\n",
       "    </tr>\n",
       "    <tr>\n",
       "      <th>4</th>\n",
       "      <td>Jr. Software Developer</td>\n",
       "      <td>[Job details, Salary, $65,000 - $90,000 a year...</td>\n",
       "      <td>[Qualifications, Bachelor's (Preferred), Node....</td>\n",
       "      <td>[]</td>\n",
       "      <td>[Job Title: Jr. Software Developer, Location: ...</td>\n",
       "    </tr>\n",
       "    <tr>\n",
       "      <th>...</th>\n",
       "      <td>...</td>\n",
       "      <td>...</td>\n",
       "      <td>...</td>\n",
       "      <td>...</td>\n",
       "      <td>...</td>\n",
       "    </tr>\n",
       "    <tr>\n",
       "      <th>3650</th>\n",
       "      <td>Core Developer</td>\n",
       "      <td>[Job details, Job Type, Full-time]</td>\n",
       "      <td>[]</td>\n",
       "      <td>[]</td>\n",
       "      <td>[What does a great TradeFlow Core Developer do...</td>\n",
       "    </tr>\n",
       "    <tr>\n",
       "      <th>3651</th>\n",
       "      <td>SDET - C# - Fully Remote</td>\n",
       "      <td>[Job details, Salary, $125,000 - $160,000 a year]</td>\n",
       "      <td>[]</td>\n",
       "      <td>[]</td>\n",
       "      <td>[Our client, a software company in the healthc...</td>\n",
       "    </tr>\n",
       "    <tr>\n",
       "      <th>3652</th>\n",
       "      <td>C# Developer (7+ years experience)</td>\n",
       "      <td>[Job details, Salary, $80,000 - $150,000 a yea...</td>\n",
       "      <td>[Qualifications, Bachelor's (Required), C# or ...</td>\n",
       "      <td>[]</td>\n",
       "      <td>[NOVO Engineering is a contract engineering se...</td>\n",
       "    </tr>\n",
       "    <tr>\n",
       "      <th>3653</th>\n",
       "      <td>PHP / CodeIgnitor Developer</td>\n",
       "      <td>[Job details, Job Type, Full-time]</td>\n",
       "      <td>[]</td>\n",
       "      <td>[]</td>\n",
       "      <td>[Description:\\n, \\nLynker Technologies has an ...</td>\n",
       "    </tr>\n",
       "    <tr>\n",
       "      <th>3654</th>\n",
       "      <td>Software Developer PHP</td>\n",
       "      <td>[Job details, Job Type, Full-time]</td>\n",
       "      <td>[]</td>\n",
       "      <td>[]</td>\n",
       "      <td>[Posted: February 1st 2021, \\n, POSITION:, \\n,...</td>\n",
       "    </tr>\n",
       "  </tbody>\n",
       "</table>\n",
       "<p>3622 rows × 5 columns</p>\n",
       "</div>"
      ],
      "text/plain": [
       "                                   title  \\\n",
       "0                       Python Developer   \n",
       "1           Associate Developer (Remote)   \n",
       "2                           C# Developer   \n",
       "3                          Web Developer   \n",
       "4                 Jr. Software Developer   \n",
       "...                                  ...   \n",
       "3650                      Core Developer   \n",
       "3651            SDET - C# - Fully Remote   \n",
       "3652  C# Developer (7+ years experience)   \n",
       "3653         PHP / CodeIgnitor Developer   \n",
       "3654              Software Developer PHP   \n",
       "\n",
       "                                            job_details  \\\n",
       "0     [Job details, Salary, $80,000 - $120,000 a yea...   \n",
       "1                                                    []   \n",
       "2                                                    []   \n",
       "3                    [Job details, Job Type, Full-time]   \n",
       "4     [Job details, Salary, $65,000 - $90,000 a year...   \n",
       "...                                                 ...   \n",
       "3650                 [Job details, Job Type, Full-time]   \n",
       "3651  [Job details, Salary, $125,000 - $160,000 a year]   \n",
       "3652  [Job details, Salary, $80,000 - $150,000 a yea...   \n",
       "3653                 [Job details, Job Type, Full-time]   \n",
       "3654                 [Job details, Job Type, Full-time]   \n",
       "\n",
       "                                         qualifications benefits  \\\n",
       "0     [Qualifications, Bachelor's (Preferred), REST:...       []   \n",
       "1                                                    []       []   \n",
       "2                                                    []       []   \n",
       "3                                                    []       []   \n",
       "4     [Qualifications, Bachelor's (Preferred), Node....       []   \n",
       "...                                                 ...      ...   \n",
       "3650                                                 []       []   \n",
       "3651                                                 []       []   \n",
       "3652  [Qualifications, Bachelor's (Required), C# or ...       []   \n",
       "3653                                                 []       []   \n",
       "3654                                                 []       []   \n",
       "\n",
       "                                   full_job_description  \n",
       "0     [Write effective, scalable code, Develop back-...  \n",
       "1     [Nationwide/Remote, \\n, Associate Developer at...  \n",
       "2     [Pricing Developer, \\nWhippany, NJ, \\n, As a B...  \n",
       "3     [Position Responsibilities:, Qualifications:, ...  \n",
       "4     [Job Title: Jr. Software Developer, Location: ...  \n",
       "...                                                 ...  \n",
       "3650  [What does a great TradeFlow Core Developer do...  \n",
       "3651  [Our client, a software company in the healthc...  \n",
       "3652  [NOVO Engineering is a contract engineering se...  \n",
       "3653  [Description:\\n, \\nLynker Technologies has an ...  \n",
       "3654  [Posted: February 1st 2021, \\n, POSITION:, \\n,...  \n",
       "\n",
       "[3622 rows x 5 columns]"
      ]
     },
     "execution_count": 7,
     "metadata": {},
     "output_type": "execute_result"
    }
   ],
   "source": [
    "(scraped_job_data[scraped_job_data.full_job_description.astype(bool)])"
   ]
  },
  {
   "cell_type": "code",
   "execution_count": 8,
   "id": "bed769ff",
   "metadata": {},
   "outputs": [
    {
     "data": {
      "text/plain": [
       "3648"
      ]
     },
     "execution_count": 8,
     "metadata": {},
     "output_type": "execute_result"
    }
   ],
   "source": [
    "len(scraped_job_data[scraped_job_data.title.astype(bool)])"
   ]
  },
  {
   "cell_type": "code",
   "execution_count": 9,
   "id": "f83c3390",
   "metadata": {},
   "outputs": [
    {
     "data": {
      "text/plain": [
       "0"
      ]
     },
     "execution_count": 9,
     "metadata": {},
     "output_type": "execute_result"
    }
   ],
   "source": [
    "len(scraped_job_data[scraped_job_data.benefits.astype(bool)])"
   ]
  },
  {
   "cell_type": "markdown",
   "id": "9813658e",
   "metadata": {},
   "source": [
    "### Drop empty benefits column and rows without full description"
   ]
  },
  {
   "cell_type": "code",
   "execution_count": 10,
   "id": "1484b83d",
   "metadata": {},
   "outputs": [],
   "source": [
    "scraped_job_data.drop('benefits', axis=1, inplace=True)"
   ]
  },
  {
   "cell_type": "code",
   "execution_count": 11,
   "id": "5bf6123c",
   "metadata": {},
   "outputs": [],
   "source": [
    "job_data = scraped_job_data[scraped_job_data.full_job_description.astype(bool)].copy()"
   ]
  },
  {
   "cell_type": "code",
   "execution_count": 12,
   "id": "968336e8",
   "metadata": {},
   "outputs": [
    {
     "data": {
      "text/plain": [
       "3622"
      ]
     },
     "execution_count": 12,
     "metadata": {},
     "output_type": "execute_result"
    }
   ],
   "source": [
    "len(job_data)"
   ]
  },
  {
   "cell_type": "markdown",
   "id": "2d469c85",
   "metadata": {},
   "source": [
    "### Join lists in last three columns to be able to check for and drop duplicates\n",
    "    pandas duplicated() cannot work with lists"
   ]
  },
  {
   "cell_type": "code",
   "execution_count": 13,
   "id": "c83e5f9e",
   "metadata": {},
   "outputs": [],
   "source": [
    "for col in job_data.columns[1:]:\n",
    "    job_data.loc[:,col] = job_data[col].apply(lambda x: \" \".join(x))\n",
    "\n",
    "\n"
   ]
  },
  {
   "cell_type": "code",
   "execution_count": 14,
   "id": "ff04672a",
   "metadata": {},
   "outputs": [
    {
     "data": {
      "text/html": [
       "<div>\n",
       "<style scoped>\n",
       "    .dataframe tbody tr th:only-of-type {\n",
       "        vertical-align: middle;\n",
       "    }\n",
       "\n",
       "    .dataframe tbody tr th {\n",
       "        vertical-align: top;\n",
       "    }\n",
       "\n",
       "    .dataframe thead th {\n",
       "        text-align: right;\n",
       "    }\n",
       "</style>\n",
       "<table border=\"1\" class=\"dataframe\">\n",
       "  <thead>\n",
       "    <tr style=\"text-align: right;\">\n",
       "      <th></th>\n",
       "      <th>title</th>\n",
       "      <th>job_details</th>\n",
       "      <th>qualifications</th>\n",
       "      <th>full_job_description</th>\n",
       "    </tr>\n",
       "  </thead>\n",
       "  <tbody>\n",
       "    <tr>\n",
       "      <th>0</th>\n",
       "      <td>Python Developer</td>\n",
       "      <td>Job details Salary $80,000 - $120,000 a year J...</td>\n",
       "      <td>Qualifications Bachelor's (Preferred) REST: 1 ...</td>\n",
       "      <td>Write effective, scalable code Develop back-en...</td>\n",
       "    </tr>\n",
       "    <tr>\n",
       "      <th>1</th>\n",
       "      <td>Associate Developer (Remote)</td>\n",
       "      <td></td>\n",
       "      <td></td>\n",
       "      <td>Nationwide/Remote \\n Associate Developer at Be...</td>\n",
       "    </tr>\n",
       "    <tr>\n",
       "      <th>2</th>\n",
       "      <td>C# Developer</td>\n",
       "      <td></td>\n",
       "      <td></td>\n",
       "      <td>Pricing Developer \\nWhippany, NJ \\n As a Barcl...</td>\n",
       "    </tr>\n",
       "    <tr>\n",
       "      <th>3</th>\n",
       "      <td>Web Developer</td>\n",
       "      <td>Job details Job Type Full-time</td>\n",
       "      <td></td>\n",
       "      <td>Position Responsibilities: Qualifications: Pre...</td>\n",
       "    </tr>\n",
       "    <tr>\n",
       "      <th>4</th>\n",
       "      <td>Jr. Software Developer</td>\n",
       "      <td>Job details Salary $65,000 - $90,000 a year Jo...</td>\n",
       "      <td>Qualifications Bachelor's (Preferred) Node.js:...</td>\n",
       "      <td>Job Title: Jr. Software Developer Location: Pa...</td>\n",
       "    </tr>\n",
       "  </tbody>\n",
       "</table>\n",
       "</div>"
      ],
      "text/plain": [
       "                          title  \\\n",
       "0              Python Developer   \n",
       "1  Associate Developer (Remote)   \n",
       "2                  C# Developer   \n",
       "3                 Web Developer   \n",
       "4        Jr. Software Developer   \n",
       "\n",
       "                                         job_details  \\\n",
       "0  Job details Salary $80,000 - $120,000 a year J...   \n",
       "1                                                      \n",
       "2                                                      \n",
       "3                     Job details Job Type Full-time   \n",
       "4  Job details Salary $65,000 - $90,000 a year Jo...   \n",
       "\n",
       "                                      qualifications  \\\n",
       "0  Qualifications Bachelor's (Preferred) REST: 1 ...   \n",
       "1                                                      \n",
       "2                                                      \n",
       "3                                                      \n",
       "4  Qualifications Bachelor's (Preferred) Node.js:...   \n",
       "\n",
       "                                full_job_description  \n",
       "0  Write effective, scalable code Develop back-en...  \n",
       "1  Nationwide/Remote \\n Associate Developer at Be...  \n",
       "2  Pricing Developer \\nWhippany, NJ \\n As a Barcl...  \n",
       "3  Position Responsibilities: Qualifications: Pre...  \n",
       "4  Job Title: Jr. Software Developer Location: Pa...  "
      ]
     },
     "execution_count": 14,
     "metadata": {},
     "output_type": "execute_result"
    }
   ],
   "source": [
    "job_data.head()"
   ]
  },
  {
   "cell_type": "code",
   "execution_count": 15,
   "id": "948c666f",
   "metadata": {},
   "outputs": [
    {
     "data": {
      "text/plain": [
       "1497"
      ]
     },
     "execution_count": 15,
     "metadata": {},
     "output_type": "execute_result"
    }
   ],
   "source": [
    "job_data.duplicated().sum()"
   ]
  },
  {
   "cell_type": "code",
   "execution_count": 16,
   "id": "81a69720",
   "metadata": {},
   "outputs": [
    {
     "data": {
      "text/html": [
       "<div>\n",
       "<style scoped>\n",
       "    .dataframe tbody tr th:only-of-type {\n",
       "        vertical-align: middle;\n",
       "    }\n",
       "\n",
       "    .dataframe tbody tr th {\n",
       "        vertical-align: top;\n",
       "    }\n",
       "\n",
       "    .dataframe thead th {\n",
       "        text-align: right;\n",
       "    }\n",
       "</style>\n",
       "<table border=\"1\" class=\"dataframe\">\n",
       "  <thead>\n",
       "    <tr style=\"text-align: right;\">\n",
       "      <th></th>\n",
       "      <th>title</th>\n",
       "      <th>job_details</th>\n",
       "      <th>qualifications</th>\n",
       "      <th>full_job_description</th>\n",
       "    </tr>\n",
       "  </thead>\n",
       "  <tbody>\n",
       "    <tr>\n",
       "      <th>36</th>\n",
       "      <td>Java Developer (100% Remote, $85/hr)</td>\n",
       "      <td>Job details Salary From $85 an hour Job Type F...</td>\n",
       "      <td>Qualifications Java: 4 years (Required) Bachel...</td>\n",
       "      <td>BNL Consulting is actively seeking a Java Deve...</td>\n",
       "    </tr>\n",
       "    <tr>\n",
       "      <th>38</th>\n",
       "      <td>Customer Success Engineer for Enterprise SaaS</td>\n",
       "      <td>Job details Salary From $100,000 a year Job Ty...</td>\n",
       "      <td>Qualifications Bachelor's (Preferred)</td>\n",
       "      <td>Location : Work From Your Home on a Remote-Fir...</td>\n",
       "    </tr>\n",
       "    <tr>\n",
       "      <th>219</th>\n",
       "      <td>Remote C# Software Developer</td>\n",
       "      <td>Job details Job Type Full-time</td>\n",
       "      <td></td>\n",
       "      <td>Overview:\\n \\nDo you have a passion for doing ...</td>\n",
       "    </tr>\n",
       "    <tr>\n",
       "      <th>293</th>\n",
       "      <td>Remote C# Software Developer</td>\n",
       "      <td>Job details Job Type Full-time</td>\n",
       "      <td></td>\n",
       "      <td>Overview:\\n \\nDo you have a passion for doing ...</td>\n",
       "    </tr>\n",
       "    <tr>\n",
       "      <th>296</th>\n",
       "      <td>Remote C# Software Developer</td>\n",
       "      <td>Job details Job Type Full-time</td>\n",
       "      <td></td>\n",
       "      <td>Overview:\\n \\nDo you have a passion for doing ...</td>\n",
       "    </tr>\n",
       "    <tr>\n",
       "      <th>...</th>\n",
       "      <td>...</td>\n",
       "      <td>...</td>\n",
       "      <td>...</td>\n",
       "      <td>...</td>\n",
       "    </tr>\n",
       "    <tr>\n",
       "      <th>3645</th>\n",
       "      <td>Lead Software Developer</td>\n",
       "      <td>Job details Salary $67,600 - $190,100 a year</td>\n",
       "      <td></td>\n",
       "      <td>The Team: The Impact: What’s in it for you: Co...</td>\n",
       "    </tr>\n",
       "    <tr>\n",
       "      <th>3648</th>\n",
       "      <td>Front End Developer</td>\n",
       "      <td>Job details Salary $90,000 - $130,000 a year J...</td>\n",
       "      <td></td>\n",
       "      <td>Are you the type of person who loves finding s...</td>\n",
       "    </tr>\n",
       "    <tr>\n",
       "      <th>3650</th>\n",
       "      <td>Core Developer</td>\n",
       "      <td>Job details Job Type Full-time</td>\n",
       "      <td></td>\n",
       "      <td>What does a great TradeFlow Core Developer do?...</td>\n",
       "    </tr>\n",
       "    <tr>\n",
       "      <th>3651</th>\n",
       "      <td>SDET - C# - Fully Remote</td>\n",
       "      <td>Job details Salary $125,000 - $160,000 a year</td>\n",
       "      <td></td>\n",
       "      <td>Our client, a software company in the healthca...</td>\n",
       "    </tr>\n",
       "    <tr>\n",
       "      <th>3654</th>\n",
       "      <td>Software Developer PHP</td>\n",
       "      <td>Job details Job Type Full-time</td>\n",
       "      <td></td>\n",
       "      <td>Posted: February 1st 2021 \\n POSITION: \\n Soft...</td>\n",
       "    </tr>\n",
       "  </tbody>\n",
       "</table>\n",
       "<p>1497 rows × 4 columns</p>\n",
       "</div>"
      ],
      "text/plain": [
       "                                              title  \\\n",
       "36             Java Developer (100% Remote, $85/hr)   \n",
       "38    Customer Success Engineer for Enterprise SaaS   \n",
       "219                    Remote C# Software Developer   \n",
       "293                    Remote C# Software Developer   \n",
       "296                    Remote C# Software Developer   \n",
       "...                                             ...   \n",
       "3645                        Lead Software Developer   \n",
       "3648                            Front End Developer   \n",
       "3650                                 Core Developer   \n",
       "3651                       SDET - C# - Fully Remote   \n",
       "3654                         Software Developer PHP   \n",
       "\n",
       "                                            job_details  \\\n",
       "36    Job details Salary From $85 an hour Job Type F...   \n",
       "38    Job details Salary From $100,000 a year Job Ty...   \n",
       "219                      Job details Job Type Full-time   \n",
       "293                      Job details Job Type Full-time   \n",
       "296                      Job details Job Type Full-time   \n",
       "...                                                 ...   \n",
       "3645       Job details Salary $67,600 - $190,100 a year   \n",
       "3648  Job details Salary $90,000 - $130,000 a year J...   \n",
       "3650                     Job details Job Type Full-time   \n",
       "3651      Job details Salary $125,000 - $160,000 a year   \n",
       "3654                     Job details Job Type Full-time   \n",
       "\n",
       "                                         qualifications  \\\n",
       "36    Qualifications Java: 4 years (Required) Bachel...   \n",
       "38                Qualifications Bachelor's (Preferred)   \n",
       "219                                                       \n",
       "293                                                       \n",
       "296                                                       \n",
       "...                                                 ...   \n",
       "3645                                                      \n",
       "3648                                                      \n",
       "3650                                                      \n",
       "3651                                                      \n",
       "3654                                                      \n",
       "\n",
       "                                   full_job_description  \n",
       "36    BNL Consulting is actively seeking a Java Deve...  \n",
       "38    Location : Work From Your Home on a Remote-Fir...  \n",
       "219   Overview:\\n \\nDo you have a passion for doing ...  \n",
       "293   Overview:\\n \\nDo you have a passion for doing ...  \n",
       "296   Overview:\\n \\nDo you have a passion for doing ...  \n",
       "...                                                 ...  \n",
       "3645  The Team: The Impact: What’s in it for you: Co...  \n",
       "3648  Are you the type of person who loves finding s...  \n",
       "3650  What does a great TradeFlow Core Developer do?...  \n",
       "3651  Our client, a software company in the healthca...  \n",
       "3654  Posted: February 1st 2021 \\n POSITION: \\n Soft...  \n",
       "\n",
       "[1497 rows x 4 columns]"
      ]
     },
     "execution_count": 16,
     "metadata": {},
     "output_type": "execute_result"
    }
   ],
   "source": [
    "job_data[job_data.duplicated() == True]"
   ]
  },
  {
   "cell_type": "code",
   "execution_count": 17,
   "id": "daa5279d",
   "metadata": {},
   "outputs": [
    {
     "data": {
      "text/html": [
       "<div>\n",
       "<style scoped>\n",
       "    .dataframe tbody tr th:only-of-type {\n",
       "        vertical-align: middle;\n",
       "    }\n",
       "\n",
       "    .dataframe tbody tr th {\n",
       "        vertical-align: top;\n",
       "    }\n",
       "\n",
       "    .dataframe thead th {\n",
       "        text-align: right;\n",
       "    }\n",
       "</style>\n",
       "<table border=\"1\" class=\"dataframe\">\n",
       "  <thead>\n",
       "    <tr style=\"text-align: right;\">\n",
       "      <th></th>\n",
       "      <th>title</th>\n",
       "      <th>job_details</th>\n",
       "      <th>qualifications</th>\n",
       "      <th>full_job_description</th>\n",
       "    </tr>\n",
       "  </thead>\n",
       "  <tbody>\n",
       "    <tr>\n",
       "      <th>22</th>\n",
       "      <td>Java Developer (100% Remote, $85/hr)</td>\n",
       "      <td>Job details Salary From $85 an hour Job Type F...</td>\n",
       "      <td>Qualifications Java: 4 years (Required) Bachel...</td>\n",
       "      <td>BNL Consulting is actively seeking a Java Deve...</td>\n",
       "    </tr>\n",
       "    <tr>\n",
       "      <th>36</th>\n",
       "      <td>Java Developer (100% Remote, $85/hr)</td>\n",
       "      <td>Job details Salary From $85 an hour Job Type F...</td>\n",
       "      <td>Qualifications Java: 4 years (Required) Bachel...</td>\n",
       "      <td>BNL Consulting is actively seeking a Java Deve...</td>\n",
       "    </tr>\n",
       "  </tbody>\n",
       "</table>\n",
       "</div>"
      ],
      "text/plain": [
       "                                   title  \\\n",
       "22  Java Developer (100% Remote, $85/hr)   \n",
       "36  Java Developer (100% Remote, $85/hr)   \n",
       "\n",
       "                                          job_details  \\\n",
       "22  Job details Salary From $85 an hour Job Type F...   \n",
       "36  Job details Salary From $85 an hour Job Type F...   \n",
       "\n",
       "                                       qualifications  \\\n",
       "22  Qualifications Java: 4 years (Required) Bachel...   \n",
       "36  Qualifications Java: 4 years (Required) Bachel...   \n",
       "\n",
       "                                 full_job_description  \n",
       "22  BNL Consulting is actively seeking a Java Deve...  \n",
       "36  BNL Consulting is actively seeking a Java Deve...  "
      ]
     },
     "execution_count": 17,
     "metadata": {},
     "output_type": "execute_result"
    }
   ],
   "source": [
    "job_data[job_data == job_data.iloc[36]].dropna()"
   ]
  },
  {
   "cell_type": "code",
   "execution_count": 18,
   "id": "60c54daa",
   "metadata": {},
   "outputs": [
    {
     "data": {
      "text/html": [
       "<div>\n",
       "<style scoped>\n",
       "    .dataframe tbody tr th:only-of-type {\n",
       "        vertical-align: middle;\n",
       "    }\n",
       "\n",
       "    .dataframe tbody tr th {\n",
       "        vertical-align: top;\n",
       "    }\n",
       "\n",
       "    .dataframe thead th {\n",
       "        text-align: right;\n",
       "    }\n",
       "</style>\n",
       "<table border=\"1\" class=\"dataframe\">\n",
       "  <thead>\n",
       "    <tr style=\"text-align: right;\">\n",
       "      <th></th>\n",
       "      <th>title</th>\n",
       "      <th>job_details</th>\n",
       "      <th>qualifications</th>\n",
       "      <th>full_job_description</th>\n",
       "    </tr>\n",
       "  </thead>\n",
       "  <tbody>\n",
       "    <tr>\n",
       "      <th>26</th>\n",
       "      <td>Customer Success Engineer for Enterprise SaaS</td>\n",
       "      <td>Job details Salary From $100,000 a year Job Ty...</td>\n",
       "      <td>Qualifications Bachelor's (Preferred)</td>\n",
       "      <td>Location : Work From Your Home on a Remote-Fir...</td>\n",
       "    </tr>\n",
       "    <tr>\n",
       "      <th>38</th>\n",
       "      <td>Customer Success Engineer for Enterprise SaaS</td>\n",
       "      <td>Job details Salary From $100,000 a year Job Ty...</td>\n",
       "      <td>Qualifications Bachelor's (Preferred)</td>\n",
       "      <td>Location : Work From Your Home on a Remote-Fir...</td>\n",
       "    </tr>\n",
       "    <tr>\n",
       "      <th>760</th>\n",
       "      <td>Customer Success Engineer for Enterprise SaaS</td>\n",
       "      <td>Job details Salary From $100,000 a year Job Ty...</td>\n",
       "      <td>Qualifications Bachelor's (Preferred)</td>\n",
       "      <td>Location : Work From Your Home on a Remote-Fir...</td>\n",
       "    </tr>\n",
       "    <tr>\n",
       "      <th>790</th>\n",
       "      <td>Customer Success Engineer for Enterprise SaaS</td>\n",
       "      <td>Job details Salary From $100,000 a year Job Ty...</td>\n",
       "      <td>Qualifications Bachelor's (Preferred)</td>\n",
       "      <td>Location : Work From Your Home on a Remote-Fir...</td>\n",
       "    </tr>\n",
       "    <tr>\n",
       "      <th>1968</th>\n",
       "      <td>Customer Success Engineer for Enterprise SaaS</td>\n",
       "      <td>Job details Salary From $100,000 a year Job Ty...</td>\n",
       "      <td>Qualifications Bachelor's (Preferred)</td>\n",
       "      <td>Location : Work From Your Home on a Remote-Fir...</td>\n",
       "    </tr>\n",
       "  </tbody>\n",
       "</table>\n",
       "</div>"
      ],
      "text/plain": [
       "                                              title  \\\n",
       "26    Customer Success Engineer for Enterprise SaaS   \n",
       "38    Customer Success Engineer for Enterprise SaaS   \n",
       "760   Customer Success Engineer for Enterprise SaaS   \n",
       "790   Customer Success Engineer for Enterprise SaaS   \n",
       "1968  Customer Success Engineer for Enterprise SaaS   \n",
       "\n",
       "                                            job_details  \\\n",
       "26    Job details Salary From $100,000 a year Job Ty...   \n",
       "38    Job details Salary From $100,000 a year Job Ty...   \n",
       "760   Job details Salary From $100,000 a year Job Ty...   \n",
       "790   Job details Salary From $100,000 a year Job Ty...   \n",
       "1968  Job details Salary From $100,000 a year Job Ty...   \n",
       "\n",
       "                             qualifications  \\\n",
       "26    Qualifications Bachelor's (Preferred)   \n",
       "38    Qualifications Bachelor's (Preferred)   \n",
       "760   Qualifications Bachelor's (Preferred)   \n",
       "790   Qualifications Bachelor's (Preferred)   \n",
       "1968  Qualifications Bachelor's (Preferred)   \n",
       "\n",
       "                                   full_job_description  \n",
       "26    Location : Work From Your Home on a Remote-Fir...  \n",
       "38    Location : Work From Your Home on a Remote-Fir...  \n",
       "760   Location : Work From Your Home on a Remote-Fir...  \n",
       "790   Location : Work From Your Home on a Remote-Fir...  \n",
       "1968  Location : Work From Your Home on a Remote-Fir...  "
      ]
     },
     "execution_count": 18,
     "metadata": {},
     "output_type": "execute_result"
    }
   ],
   "source": [
    "job_data[job_data == job_data.iloc[38]].dropna()"
   ]
  },
  {
   "cell_type": "code",
   "execution_count": 19,
   "id": "234fa82e",
   "metadata": {},
   "outputs": [
    {
     "data": {
      "text/html": [
       "<div>\n",
       "<style scoped>\n",
       "    .dataframe tbody tr th:only-of-type {\n",
       "        vertical-align: middle;\n",
       "    }\n",
       "\n",
       "    .dataframe tbody tr th {\n",
       "        vertical-align: top;\n",
       "    }\n",
       "\n",
       "    .dataframe thead th {\n",
       "        text-align: right;\n",
       "    }\n",
       "</style>\n",
       "<table border=\"1\" class=\"dataframe\">\n",
       "  <thead>\n",
       "    <tr style=\"text-align: right;\">\n",
       "      <th></th>\n",
       "      <th>title</th>\n",
       "      <th>job_details</th>\n",
       "      <th>qualifications</th>\n",
       "      <th>full_job_description</th>\n",
       "    </tr>\n",
       "  </thead>\n",
       "  <tbody>\n",
       "    <tr>\n",
       "      <th>2</th>\n",
       "      <td>C# Developer</td>\n",
       "      <td></td>\n",
       "      <td></td>\n",
       "      <td>Pricing Developer \\nWhippany, NJ \\n As a Barcl...</td>\n",
       "    </tr>\n",
       "    <tr>\n",
       "      <th>1680</th>\n",
       "      <td>C# Developer</td>\n",
       "      <td></td>\n",
       "      <td></td>\n",
       "      <td>Pricing Developer \\nWhippany, NJ \\n As a Barcl...</td>\n",
       "    </tr>\n",
       "    <tr>\n",
       "      <th>1805</th>\n",
       "      <td>C# Developer</td>\n",
       "      <td></td>\n",
       "      <td></td>\n",
       "      <td>Pricing Developer \\nWhippany, NJ \\n As a Barcl...</td>\n",
       "    </tr>\n",
       "    <tr>\n",
       "      <th>2852</th>\n",
       "      <td>C# Developer</td>\n",
       "      <td></td>\n",
       "      <td></td>\n",
       "      <td>Pricing Developer \\nWhippany, NJ \\n As a Barcl...</td>\n",
       "    </tr>\n",
       "  </tbody>\n",
       "</table>\n",
       "</div>"
      ],
      "text/plain": [
       "             title job_details qualifications  \\\n",
       "2     C# Developer                              \n",
       "1680  C# Developer                              \n",
       "1805  C# Developer                              \n",
       "2852  C# Developer                              \n",
       "\n",
       "                                   full_job_description  \n",
       "2     Pricing Developer \\nWhippany, NJ \\n As a Barcl...  \n",
       "1680  Pricing Developer \\nWhippany, NJ \\n As a Barcl...  \n",
       "1805  Pricing Developer \\nWhippany, NJ \\n As a Barcl...  \n",
       "2852  Pricing Developer \\nWhippany, NJ \\n As a Barcl...  "
      ]
     },
     "execution_count": 19,
     "metadata": {},
     "output_type": "execute_result"
    }
   ],
   "source": [
    "job_data[job_data == job_data.iloc[1790]].dropna()"
   ]
  },
  {
   "cell_type": "code",
   "execution_count": 20,
   "id": "63f747e8",
   "metadata": {},
   "outputs": [],
   "source": [
    "job_data.drop_duplicates(inplace=True)"
   ]
  },
  {
   "cell_type": "code",
   "execution_count": 22,
   "id": "e32a46ae",
   "metadata": {},
   "outputs": [
    {
     "data": {
      "text/plain": [
       "2125"
      ]
     },
     "execution_count": 22,
     "metadata": {},
     "output_type": "execute_result"
    }
   ],
   "source": [
    "len(job_data)"
   ]
  },
  {
   "cell_type": "markdown",
   "id": "11906bf7",
   "metadata": {},
   "source": [
    "### Use spacy's built-in named entity recognizer as to generate ideas about domain specific entites"
   ]
  },
  {
   "cell_type": "code",
   "execution_count": 23,
   "id": "eb867a61",
   "metadata": {},
   "outputs": [],
   "source": [
    "import spacy\n",
    "nlp = spacy.load(\"en_core_web_sm\")"
   ]
  },
  {
   "cell_type": "code",
   "execution_count": 24,
   "id": "dfedecc5",
   "metadata": {},
   "outputs": [],
   "source": [
    "docs = list(nlp.pipe(job_data.full_job_description))"
   ]
  },
  {
   "cell_type": "code",
   "execution_count": 25,
   "id": "004e9bf5",
   "metadata": {},
   "outputs": [],
   "source": [
    "def show_ents(doc):\n",
    "    if doc.ents:\n",
    "        for ent in doc.ents:\n",
    "            print(ent.text+' - ' + ent.label_+ ' - '+str(spacy.explain(ent.label_)))\n",
    "    else:\n",
    "        print(\"No named entities found.\")"
   ]
  },
  {
   "cell_type": "code",
   "execution_count": 26,
   "id": "dad2be03",
   "metadata": {},
   "outputs": [
    {
     "name": "stdout",
     "output_type": "stream",
     "text": [
      "Develop - PERSON - People, including fictional\n",
      "Improve - PRODUCT - Objects, vehicles, foods, etc. (not services)\n",
      "Assess - ORG - Companies, agencies, institutions, etc.\n",
      "Requirements Work - ORG - Companies, agencies, institutions, etc.\n",
      "at least one - CARDINAL - Numerals that do not fall under another type\n",
      "Django, Flask or Pyramid) Knowledge of - WORK_OF_ART - Titles of books, songs, etc.\n",
      "Computer Science - ORG - Companies, agencies, institutions, etc.\n",
      "Job Type: Full - PERSON - People, including fictional\n",
      "80,000.00 - MONEY - Monetary values, including unit\n",
      "120,000.00 - MONEY - Monetary values, including unit\n",
      "Dental - ORG - Companies, agencies, institutions, etc.\n",
      "Vision - ORG - Companies, agencies, institutions, etc.\n",
      "Schedule - ORG - Companies, agencies, institutions, etc.\n",
      "8 hour - TIME - Times smaller than a day\n",
      "Bachelor - ORG - Companies, agencies, institutions, etc.\n",
      "1 year - DATE - Absolute or relative dates or periods\n",
      "1 year - DATE - Absolute or relative dates or periods\n"
     ]
    }
   ],
   "source": [
    "show_ents(docs[0])"
   ]
  },
  {
   "cell_type": "code",
   "execution_count": 27,
   "id": "a4d0dba2",
   "metadata": {},
   "outputs": [
    {
     "name": "stdout",
     "output_type": "stream",
     "text": [
      "WASHINGTON - GPE - Countries, cities, states\n",
      "DC - GPE - Countries, cities, states\n",
      "SAN ANTONIO - GPE - Countries, cities, states\n",
      "TX - ORG - Companies, agencies, institutions, etc.\n",
      "MIAMI - ORG - Companies, agencies, institutions, etc.\n",
      "Computer Science, Information Systems - ORG - Companies, agencies, institutions, etc.\n",
      "ServiceNow - ORG - Companies, agencies, institutions, etc.\n",
      "Equal Employment Opportunity - WORK_OF_ART - Titles of books, songs, etc.\n",
      "iTech AG - PRODUCT - Objects, vehicles, foods, etc. (not services)\n"
     ]
    }
   ],
   "source": [
    "show_ents(docs[358])"
   ]
  },
  {
   "cell_type": "code",
   "execution_count": 28,
   "id": "cd944615",
   "metadata": {},
   "outputs": [],
   "source": [
    "def get_ents(doc):\n",
    "    if doc.ents:\n",
    "        return [ent.text for ent in doc.ents]\n",
    "    else:\n",
    "        pass"
   ]
  },
  {
   "cell_type": "code",
   "execution_count": 29,
   "id": "b620b739",
   "metadata": {},
   "outputs": [],
   "source": [
    "from pandas.core.common import flatten"
   ]
  },
  {
   "cell_type": "code",
   "execution_count": 30,
   "id": "b7109f69",
   "metadata": {},
   "outputs": [],
   "source": [
    "ents = pd.Series(list(flatten([get_ents(doc) for doc in docs])))"
   ]
  },
  {
   "cell_type": "code",
   "execution_count": 31,
   "id": "d1616535",
   "metadata": {},
   "outputs": [],
   "source": [
    "ent_counts = ents.value_counts(ascending=False)"
   ]
  },
  {
   "cell_type": "code",
   "execution_count": 32,
   "id": "561a486e",
   "metadata": {},
   "outputs": [
    {
     "data": {
      "text/plain": [
       "JavaScript             811\n",
       "1 year                 626\n",
       "Bachelor               538\n",
       "SQL                    527\n",
       "Schedule               488\n",
       "                      ... \n",
       "WinForms/WPF 4           1\n",
       "Windows Installer        1\n",
       "ActionController         1\n",
       "Resque                   1\n",
       "Lynker Technologies      1\n",
       "Length: 16307, dtype: int64"
      ]
     },
     "execution_count": 32,
     "metadata": {},
     "output_type": "execute_result"
    }
   ],
   "source": [
    "ent_counts"
   ]
  },
  {
   "cell_type": "code",
   "execution_count": 33,
   "id": "b471e9c3",
   "metadata": {},
   "outputs": [
    {
     "data": {
      "text/plain": [
       "JavaScript           811\n",
       "1 year               626\n",
       "Bachelor             538\n",
       "SQL                  527\n",
       "Schedule             488\n",
       "CSS                  474\n",
       "8 hour               472\n",
       "Java                 428\n",
       "Monday               404\n",
       "one                  388\n",
       "5 years              376\n",
       "Friday               367\n",
       "3 years              334\n",
       "One                  321\n",
       "Computer Science     316\n",
       "US                   314\n",
       "Dental               309\n",
       "#                    285\n",
       "PHP                  283\n",
       "Microsoft            274\n",
       "2 years              267\n",
       "IBM                  255\n",
       "5+ years             237\n",
       "Git                  234\n",
       "Vision               226\n",
       "3+ years             216\n",
       "API                  209\n",
       "UI                   208\n",
       "100%                 192\n",
       "U.S.                 181\n",
       "4 years              167\n",
       "the United States    167\n",
       "2+ years             165\n",
       "WordPress            161\n",
       "third                156\n",
       "C++                  154\n",
       "CI                   152\n",
       "HTML5                147\n",
       "2                    145\n",
       "first                145\n",
       "Job Type: Full       142\n",
       "DevOps               142\n",
       "Javascript           137\n",
       "daily                134\n",
       "Android              131\n",
       "MVC                  130\n",
       "Preferred            130\n",
       "SQL Server           123\n",
       "Colorado             121\n",
       "today                121\n",
       "dtype: int64"
      ]
     },
     "execution_count": 33,
     "metadata": {},
     "output_type": "execute_result"
    }
   ],
   "source": [
    "ent_counts.head(50)"
   ]
  },
  {
   "cell_type": "markdown",
   "id": "0fc3dd25",
   "metadata": {},
   "source": [
    "### Check performance of spacy ner\n",
    "    Search for \"Python\" and \"JavaScript\" using spacy ner and simple string search with regex IGNORECASE"
   ]
  },
  {
   "cell_type": "code",
   "execution_count": 34,
   "id": "a137d476",
   "metadata": {
    "scrolled": true
   },
   "outputs": [
    {
     "data": {
      "text/plain": [
       "Python    82\n",
       "dtype: int64"
      ]
     },
     "execution_count": 34,
     "metadata": {},
     "output_type": "execute_result"
    }
   ],
   "source": [
    "ent_counts[ent_counts.index == \"Python\"]"
   ]
  },
  {
   "cell_type": "code",
   "execution_count": 35,
   "id": "825d4c0d",
   "metadata": {},
   "outputs": [],
   "source": [
    "import re"
   ]
  },
  {
   "cell_type": "code",
   "execution_count": 36,
   "id": "c070b90f",
   "metadata": {
    "scrolled": true
   },
   "outputs": [],
   "source": [
    "python_spacy_check = job_data.full_job_description.str.findall('Python', flags=re.IGNORECASE)"
   ]
  },
  {
   "cell_type": "code",
   "execution_count": 37,
   "id": "63346817",
   "metadata": {},
   "outputs": [
    {
     "data": {
      "text/plain": [
       "0               [Python, Python]\n",
       "1                       [Python]\n",
       "10              [Python, Python]\n",
       "11                      [Python]\n",
       "18      [Python, Python, Python]\n",
       "                  ...           \n",
       "3617    [Python, Python, Python]\n",
       "3627            [Python, Python]\n",
       "3632                    [Python]\n",
       "3635                    [Python]\n",
       "3652                    [Python]\n",
       "Name: full_job_description, Length: 400, dtype: object"
      ]
     },
     "execution_count": 37,
     "metadata": {},
     "output_type": "execute_result"
    }
   ],
   "source": [
    "python_spacy_check[python_spacy_check.values.astype(bool)]"
   ]
  },
  {
   "cell_type": "code",
   "execution_count": 38,
   "id": "8a49b2ad",
   "metadata": {},
   "outputs": [],
   "source": [
    "javascript_spacy_check = job_data.full_job_description.str.findall('JavaScript', flags=re.IGNORECASE)"
   ]
  },
  {
   "cell_type": "code",
   "execution_count": 39,
   "id": "57266c12",
   "metadata": {
    "scrolled": true
   },
   "outputs": [
    {
     "data": {
      "text/plain": [
       "4                                [Javascript, Javascript]\n",
       "6                                            [Javascript]\n",
       "8                                            [JavaScript]\n",
       "9                                            [JavaScript]\n",
       "17                                           [Javascript]\n",
       "                              ...                        \n",
       "3635                                         [JavaScript]\n",
       "3640                 [javascript, Javascript, javascript]\n",
       "3641    [JavaScript, JavaScript, JavaScript, JavaScrip...\n",
       "3644                                         [JavaScript]\n",
       "3653                                         [Javascript]\n",
       "Name: full_job_description, Length: 803, dtype: object"
      ]
     },
     "execution_count": 39,
     "metadata": {},
     "output_type": "execute_result"
    }
   ],
   "source": [
    "javascript_spacy_check[javascript_spacy_check.values.astype(bool)]"
   ]
  },
  {
   "cell_type": "markdown",
   "id": "ec32e869",
   "metadata": {},
   "source": [
    "    Spacy ner seems to find \"JavaScript\" roughly the correct amount of times.\n",
    "    But it substantially undercounts \"Python\": 40 vs. 244"
   ]
  },
  {
   "cell_type": "markdown",
   "id": "931e2eb9",
   "metadata": {},
   "source": [
    "### Build a rules-based gazateer for a job ad specific named-entity recognizer"
   ]
  },
  {
   "cell_type": "code",
   "execution_count": 40,
   "id": "85c0b51c",
   "metadata": {},
   "outputs": [],
   "source": [
    "def count_skills(skill_title, pattern=None, flags=re.IGNORECASE):\n",
    "    if not pattern:\n",
    "        pattern = skill_title\n",
    "    try:\n",
    "        skill_series = job_data.full_job_description.str.findall(pattern, flags)\n",
    "        count = len(skill_series[skill_series.values.astype(bool)])\n",
    "        skill_count = {'Skill' : skill_title, 'Count' : count}\n",
    "    except:\n",
    "        pass\n",
    "    else:\n",
    "        return skill_count"
   ]
  },
  {
   "cell_type": "code",
   "execution_count": 41,
   "id": "cfe6be59",
   "metadata": {},
   "outputs": [
    {
     "data": {
      "text/plain": [
       "{'Skill': 'Python', 'Count': 400}"
      ]
     },
     "execution_count": 41,
     "metadata": {},
     "output_type": "execute_result"
    }
   ],
   "source": [
    "count_skills(\"Python\")"
   ]
  },
  {
   "cell_type": "code",
   "execution_count": 42,
   "id": "a6ee4182",
   "metadata": {},
   "outputs": [],
   "source": [
    "patterns = ['Python', \"SQL\", 'JavaScript', 'Java', 'AWS', 'Linux', 'Agile', 'Django', 'DevOps', 'Cloud',\n",
    "           'CSS', 'Docker', 'Git', 'ETL', 'GIS', 'Tableau',\n",
    "           'Kubernetes', \"Cloud\", 'Azure', 'Jenkins', 'Ruby', 'HTML5', \n",
    "            \"Excel\", \"NoSQL\", \"Perl\", \"Hadoop\", \"Angular\", \"Lambda\", \"Oracle\",\n",
    "           'Redis', 'JIRA', 'Flask', 'JSON', 'PostgreSQL', 'Kafka', 'Terraform', \n",
    "            'Salesforce', 'XML', 'Scrum', 'Scala', 'Spark', 'NodeJS', \n",
    "            'Bash', 'JIRA', 'React', 'AngularJS' , \"PowerShell\", \"HTML\", \n",
    "            'Golang', 'GitHub', 'Visual Studio', 'jQuery', 'Bitbucket', \"salesforce.com\", 'Splunk', \n",
    "            'Machine Learning', 'Big Data', 'MySQL', 'DynamoDB', 'PowerPoint',\n",
    "            'Selenium', 'Bootstrap', 'Power BI', 'GitLab', 'Redshift', 'Google Cloud', 'HTTP', \n",
    "            'Redfin', 'TCP/IP', 'Mongo', \"WordPress\", \"MVC\"]"
   ]
  },
  {
   "cell_type": "code",
   "execution_count": 43,
   "id": "898647e2",
   "metadata": {},
   "outputs": [],
   "source": [
    "skill_counts = [count_skills(pattern) for pattern in patterns]"
   ]
  },
  {
   "cell_type": "code",
   "execution_count": 44,
   "id": "0c2ada29",
   "metadata": {},
   "outputs": [
    {
     "data": {
      "text/plain": [
       "[{'Skill': 'Python', 'Count': 400},\n",
       " {'Skill': 'SQL', 'Count': 900},\n",
       " {'Skill': 'JavaScript', 'Count': 803},\n",
       " {'Skill': 'Java', 'Count': 1155},\n",
       " {'Skill': 'AWS', 'Count': 397},\n",
       " {'Skill': 'Linux', 'Count': 205},\n",
       " {'Skill': 'Agile', 'Count': 610},\n",
       " {'Skill': 'Django', 'Count': 45},\n",
       " {'Skill': 'DevOps', 'Count': 198},\n",
       " {'Skill': 'Cloud', 'Count': 457},\n",
       " {'Skill': 'CSS', 'Count': 598},\n",
       " {'Skill': 'Docker', 'Count': 127},\n",
       " {'Skill': 'Git', 'Count': 678},\n",
       " {'Skill': 'ETL', 'Count': 66},\n",
       " {'Skill': 'GIS', 'Count': 130},\n",
       " {'Skill': 'Tableau', 'Count': 30},\n",
       " {'Skill': 'Kubernetes', 'Count': 78},\n",
       " {'Skill': 'Cloud', 'Count': 457},\n",
       " {'Skill': 'Azure', 'Count': 202},\n",
       " {'Skill': 'Jenkins', 'Count': 102},\n",
       " {'Skill': 'Ruby', 'Count': 59},\n",
       " {'Skill': 'HTML5', 'Count': 194},\n",
       " {'Skill': 'Excel', 'Count': 715},\n",
       " {'Skill': 'NoSQL', 'Count': 95},\n",
       " {'Skill': 'Perl', 'Count': 72},\n",
       " {'Skill': 'Hadoop', 'Count': 24},\n",
       " {'Skill': 'Angular', 'Count': 333},\n",
       " {'Skill': 'Lambda', 'Count': 36},\n",
       " {'Skill': 'Oracle', 'Count': 169},\n",
       " {'Skill': 'Redis', 'Count': 51},\n",
       " {'Skill': 'JIRA', 'Count': 130},\n",
       " {'Skill': 'Flask', 'Count': 28},\n",
       " {'Skill': 'JSON', 'Count': 165},\n",
       " {'Skill': 'PostgreSQL', 'Count': 59},\n",
       " {'Skill': 'Kafka', 'Count': 46},\n",
       " {'Skill': 'Terraform', 'Count': 27},\n",
       " {'Skill': 'Salesforce', 'Count': 52},\n",
       " {'Skill': 'XML', 'Count': 148},\n",
       " {'Skill': 'Scrum', 'Count': 200},\n",
       " {'Skill': 'Scala', 'Count': 335},\n",
       " {'Skill': 'Spark', 'Count': 37},\n",
       " {'Skill': 'NodeJS', 'Count': 82},\n",
       " {'Skill': 'Bash', 'Count': 32},\n",
       " {'Skill': 'JIRA', 'Count': 130},\n",
       " {'Skill': 'React', 'Count': 442},\n",
       " {'Skill': 'AngularJS', 'Count': 59},\n",
       " {'Skill': 'PowerShell', 'Count': 41},\n",
       " {'Skill': 'HTML', 'Count': 639},\n",
       " {'Skill': 'Golang', 'Count': 24},\n",
       " {'Skill': 'GitHub', 'Count': 131},\n",
       " {'Skill': 'Visual Studio', 'Count': 108},\n",
       " {'Skill': 'jQuery', 'Count': 197},\n",
       " {'Skill': 'Bitbucket', 'Count': 53},\n",
       " {'Skill': 'salesforce.com', 'Count': 13},\n",
       " {'Skill': 'Splunk', 'Count': 19},\n",
       " {'Skill': 'Machine Learning', 'Count': 57},\n",
       " {'Skill': 'Big Data', 'Count': 37},\n",
       " {'Skill': 'MySQL', 'Count': 179},\n",
       " {'Skill': 'DynamoDB', 'Count': 22},\n",
       " {'Skill': 'PowerPoint', 'Count': 28},\n",
       " {'Skill': 'Selenium', 'Count': 32},\n",
       " {'Skill': 'Bootstrap', 'Count': 114},\n",
       " {'Skill': 'Power BI', 'Count': 16},\n",
       " {'Skill': 'GitLab', 'Count': 34},\n",
       " {'Skill': 'Redshift', 'Count': 9},\n",
       " {'Skill': 'Google Cloud', 'Count': 25},\n",
       " {'Skill': 'HTTP', 'Count': 190},\n",
       " {'Skill': 'Redfin', 'Count': 0},\n",
       " {'Skill': 'TCP/IP', 'Count': 9},\n",
       " {'Skill': 'Mongo', 'Count': 71},\n",
       " {'Skill': 'WordPress', 'Count': 104},\n",
       " {'Skill': 'MVC', 'Count': 166}]"
      ]
     },
     "execution_count": 44,
     "metadata": {},
     "output_type": "execute_result"
    }
   ],
   "source": [
    "skill_counts"
   ]
  },
  {
   "cell_type": "code",
   "execution_count": 45,
   "id": "b3e99659",
   "metadata": {},
   "outputs": [],
   "source": [
    "skill_counts_frame = pd.Series({skill_count['Skill']: skill_count['Count'] for skill_count in skill_counts })"
   ]
  },
  {
   "cell_type": "code",
   "execution_count": 46,
   "id": "e61bc0e9",
   "metadata": {},
   "outputs": [],
   "source": [
    "skill_counts_frame.sort_values(ascending=False, inplace=True)"
   ]
  },
  {
   "cell_type": "code",
   "execution_count": 56,
   "id": "da874e4b",
   "metadata": {},
   "outputs": [
    {
     "data": {
      "text/plain": [
       "<AxesSubplot:>"
      ]
     },
     "execution_count": 56,
     "metadata": {},
     "output_type": "execute_result"
    },
    {
     "data": {
      "image/png": "[encoded data removed]",
      "text/plain": [
       "<Figure size 720x720 with 1 Axes>"
      ]
     },
     "metadata": {
      "needs_background": "light"
     },
     "output_type": "display_data"
    }
   ],
   "source": [
    "skill_counts_frame[:30].plot(kind=\"bar\", figsize=(10,10))"
   ]
  },
  {
   "cell_type": "code",
   "execution_count": null,
   "id": "0c0e0618",
   "metadata": {
    "scrolled": true
   },
   "outputs": [],
   "source": []
  },
  {
   "cell_type": "code",
   "execution_count": 49,
   "id": "2f479b7a",
   "metadata": {},
   "outputs": [
    {
     "data": {
      "text/html": [
       "<div>\n",
       "<style scoped>\n",
       "    .dataframe tbody tr th:only-of-type {\n",
       "        vertical-align: middle;\n",
       "    }\n",
       "\n",
       "    .dataframe tbody tr th {\n",
       "        vertical-align: top;\n",
       "    }\n",
       "\n",
       "    .dataframe thead th {\n",
       "        text-align: right;\n",
       "    }\n",
       "</style>\n",
       "<table border=\"1\" class=\"dataframe\">\n",
       "  <thead>\n",
       "    <tr style=\"text-align: right;\">\n",
       "      <th></th>\n",
       "      <th>title</th>\n",
       "      <th>job_details</th>\n",
       "      <th>qualifications</th>\n",
       "      <th>full_job_description</th>\n",
       "    </tr>\n",
       "  </thead>\n",
       "  <tbody>\n",
       "    <tr>\n",
       "      <th>0</th>\n",
       "      <td>Python Developer</td>\n",
       "      <td>Job details Salary $80,000 - $120,000 a year J...</td>\n",
       "      <td>Qualifications Bachelor's (Preferred) REST: 1 ...</td>\n",
       "      <td>Write effective, scalable code Develop back-en...</td>\n",
       "    </tr>\n",
       "    <tr>\n",
       "      <th>4</th>\n",
       "      <td>Jr. Software Developer</td>\n",
       "      <td>Job details Salary $65,000 - $90,000 a year Jo...</td>\n",
       "      <td>Qualifications Bachelor's (Preferred) Node.js:...</td>\n",
       "      <td>Job Title: Jr. Software Developer Location: Pa...</td>\n",
       "    </tr>\n",
       "    <tr>\n",
       "      <th>8</th>\n",
       "      <td>Junior Web Developer</td>\n",
       "      <td>Job details Salary Up to $122,674 a year Job T...</td>\n",
       "      <td></td>\n",
       "      <td>Cannabis Creative Group is an award-winning di...</td>\n",
       "    </tr>\n",
       "    <tr>\n",
       "      <th>10</th>\n",
       "      <td>C++ Developer</td>\n",
       "      <td>Job details Salary $45 - $50 an hour Job Type ...</td>\n",
       "      <td>Qualifications US work authorization (Required...</td>\n",
       "      <td>· Having development experience in C / C++, Po...</td>\n",
       "    </tr>\n",
       "    <tr>\n",
       "      <th>12</th>\n",
       "      <td>Entry Level Java Developer</td>\n",
       "      <td>Job details Salary $35 an hour Job Type Full-time</td>\n",
       "      <td></td>\n",
       "      <td>What We Are Looking For \\n \\n Computer Science...</td>\n",
       "    </tr>\n",
       "    <tr>\n",
       "      <th>...</th>\n",
       "      <td>...</td>\n",
       "      <td>...</td>\n",
       "      <td>...</td>\n",
       "      <td>...</td>\n",
       "    </tr>\n",
       "    <tr>\n",
       "      <th>3624</th>\n",
       "      <td>Web Developer</td>\n",
       "      <td>Job details Salary $25 - $59 an hour Job Type ...</td>\n",
       "      <td>Qualifications High school or equivalent (Pref...</td>\n",
       "      <td>We are looking for an outstanding Web Develope...</td>\n",
       "    </tr>\n",
       "    <tr>\n",
       "      <th>3632</th>\n",
       "      <td>Junior Developer</td>\n",
       "      <td>Job details Salary $80,000 - $105,000 a year J...</td>\n",
       "      <td>Qualifications Bachelor's (Preferred) Perl, PH...</td>\n",
       "      <td>WHAT WE WANT FriendFinder Networks is looking ...</td>\n",
       "    </tr>\n",
       "    <tr>\n",
       "      <th>3646</th>\n",
       "      <td>Senior Java/J2EE Developer</td>\n",
       "      <td>Job details Salary $65 - $75 an hour Job Type ...</td>\n",
       "      <td></td>\n",
       "      <td>Location : Remote - In and around USA Hire Typ...</td>\n",
       "    </tr>\n",
       "    <tr>\n",
       "      <th>3647</th>\n",
       "      <td>UI/UX Developer (100% REMOTE)</td>\n",
       "      <td>Job details Salary $75 - $80 an hour Job Type ...</td>\n",
       "      <td>Qualifications High school or equivalent (Pref...</td>\n",
       "      <td>Positions Needed: 3 Max Submits: 9 Term: 6 mon...</td>\n",
       "    </tr>\n",
       "    <tr>\n",
       "      <th>3652</th>\n",
       "      <td>C# Developer (7+ years experience)</td>\n",
       "      <td>Job details Salary $80,000 - $150,000 a year J...</td>\n",
       "      <td>Qualifications Bachelor's (Required) C# or C: ...</td>\n",
       "      <td>NOVO Engineering is a contract engineering ser...</td>\n",
       "    </tr>\n",
       "  </tbody>\n",
       "</table>\n",
       "<p>960 rows × 4 columns</p>\n",
       "</div>"
      ],
      "text/plain": [
       "                                   title  \\\n",
       "0                       Python Developer   \n",
       "4                 Jr. Software Developer   \n",
       "8                   Junior Web Developer   \n",
       "10                         C++ Developer   \n",
       "12            Entry Level Java Developer   \n",
       "...                                  ...   \n",
       "3624                       Web Developer   \n",
       "3632                    Junior Developer   \n",
       "3646          Senior Java/J2EE Developer   \n",
       "3647       UI/UX Developer (100% REMOTE)   \n",
       "3652  C# Developer (7+ years experience)   \n",
       "\n",
       "                                            job_details  \\\n",
       "0     Job details Salary $80,000 - $120,000 a year J...   \n",
       "4     Job details Salary $65,000 - $90,000 a year Jo...   \n",
       "8     Job details Salary Up to $122,674 a year Job T...   \n",
       "10    Job details Salary $45 - $50 an hour Job Type ...   \n",
       "12    Job details Salary $35 an hour Job Type Full-time   \n",
       "...                                                 ...   \n",
       "3624  Job details Salary $25 - $59 an hour Job Type ...   \n",
       "3632  Job details Salary $80,000 - $105,000 a year J...   \n",
       "3646  Job details Salary $65 - $75 an hour Job Type ...   \n",
       "3647  Job details Salary $75 - $80 an hour Job Type ...   \n",
       "3652  Job details Salary $80,000 - $150,000 a year J...   \n",
       "\n",
       "                                         qualifications  \\\n",
       "0     Qualifications Bachelor's (Preferred) REST: 1 ...   \n",
       "4     Qualifications Bachelor's (Preferred) Node.js:...   \n",
       "8                                                         \n",
       "10    Qualifications US work authorization (Required...   \n",
       "12                                                        \n",
       "...                                                 ...   \n",
       "3624  Qualifications High school or equivalent (Pref...   \n",
       "3632  Qualifications Bachelor's (Preferred) Perl, PH...   \n",
       "3646                                                      \n",
       "3647  Qualifications High school or equivalent (Pref...   \n",
       "3652  Qualifications Bachelor's (Required) C# or C: ...   \n",
       "\n",
       "                                   full_job_description  \n",
       "0     Write effective, scalable code Develop back-en...  \n",
       "4     Job Title: Jr. Software Developer Location: Pa...  \n",
       "8     Cannabis Creative Group is an award-winning di...  \n",
       "10    · Having development experience in C / C++, Po...  \n",
       "12    What We Are Looking For \\n \\n Computer Science...  \n",
       "...                                                 ...  \n",
       "3624  We are looking for an outstanding Web Develope...  \n",
       "3632  WHAT WE WANT FriendFinder Networks is looking ...  \n",
       "3646  Location : Remote - In and around USA Hire Typ...  \n",
       "3647  Positions Needed: 3 Max Submits: 9 Term: 6 mon...  \n",
       "3652  NOVO Engineering is a contract engineering ser...  \n",
       "\n",
       "[960 rows x 4 columns]"
      ]
     },
     "execution_count": 49,
     "metadata": {},
     "output_type": "execute_result"
    }
   ],
   "source": [
    "job_data[job_data.job_details.str.findall(\"Salary\").astype(bool)]"
   ]
  },
  {
   "cell_type": "code",
   "execution_count": 50,
   "id": "11790ea9",
   "metadata": {},
   "outputs": [
    {
     "data": {
      "text/html": [
       "<div>\n",
       "<style scoped>\n",
       "    .dataframe tbody tr th:only-of-type {\n",
       "        vertical-align: middle;\n",
       "    }\n",
       "\n",
       "    .dataframe tbody tr th {\n",
       "        vertical-align: top;\n",
       "    }\n",
       "\n",
       "    .dataframe thead th {\n",
       "        text-align: right;\n",
       "    }\n",
       "</style>\n",
       "<table border=\"1\" class=\"dataframe\">\n",
       "  <thead>\n",
       "    <tr style=\"text-align: right;\">\n",
       "      <th></th>\n",
       "      <th>title</th>\n",
       "      <th>job_details</th>\n",
       "      <th>qualifications</th>\n",
       "      <th>full_job_description</th>\n",
       "    </tr>\n",
       "  </thead>\n",
       "  <tbody>\n",
       "    <tr>\n",
       "      <th>0</th>\n",
       "      <td>Python Developer</td>\n",
       "      <td>Job details Salary $80,000 - $120,000 a year J...</td>\n",
       "      <td>Qualifications Bachelor's (Preferred) REST: 1 ...</td>\n",
       "      <td>Write effective, scalable code Develop back-en...</td>\n",
       "    </tr>\n",
       "    <tr>\n",
       "      <th>4</th>\n",
       "      <td>Jr. Software Developer</td>\n",
       "      <td>Job details Salary $65,000 - $90,000 a year Jo...</td>\n",
       "      <td>Qualifications Bachelor's (Preferred) Node.js:...</td>\n",
       "      <td>Job Title: Jr. Software Developer Location: Pa...</td>\n",
       "    </tr>\n",
       "    <tr>\n",
       "      <th>8</th>\n",
       "      <td>Junior Web Developer</td>\n",
       "      <td>Job details Salary Up to $122,674 a year Job T...</td>\n",
       "      <td></td>\n",
       "      <td>Cannabis Creative Group is an award-winning di...</td>\n",
       "    </tr>\n",
       "    <tr>\n",
       "      <th>10</th>\n",
       "      <td>C++ Developer</td>\n",
       "      <td>Job details Salary $45 - $50 an hour Job Type ...</td>\n",
       "      <td>Qualifications US work authorization (Required...</td>\n",
       "      <td>· Having development experience in C / C++, Po...</td>\n",
       "    </tr>\n",
       "    <tr>\n",
       "      <th>13</th>\n",
       "      <td>Software Developer</td>\n",
       "      <td>Job details Salary $117,021 a year Job Type Fu...</td>\n",
       "      <td></td>\n",
       "      <td>Job Description\\n Software Developers : Analyz...</td>\n",
       "    </tr>\n",
       "    <tr>\n",
       "      <th>...</th>\n",
       "      <td>...</td>\n",
       "      <td>...</td>\n",
       "      <td>...</td>\n",
       "      <td>...</td>\n",
       "    </tr>\n",
       "    <tr>\n",
       "      <th>3632</th>\n",
       "      <td>Junior Developer</td>\n",
       "      <td>Job details Salary $80,000 - $105,000 a year J...</td>\n",
       "      <td>Qualifications Bachelor's (Preferred) Perl, PH...</td>\n",
       "      <td>WHAT WE WANT FriendFinder Networks is looking ...</td>\n",
       "    </tr>\n",
       "    <tr>\n",
       "      <th>3642</th>\n",
       "      <td>Software Engineering Mentor (Part-time)</td>\n",
       "      <td>Job details Job Type Part-time</td>\n",
       "      <td></td>\n",
       "      <td>What is Pathrise? \\nPathrise (YC W18) is a sta...</td>\n",
       "    </tr>\n",
       "    <tr>\n",
       "      <th>3646</th>\n",
       "      <td>Senior Java/J2EE Developer</td>\n",
       "      <td>Job details Salary $65 - $75 an hour Job Type ...</td>\n",
       "      <td></td>\n",
       "      <td>Location : Remote - In and around USA Hire Typ...</td>\n",
       "    </tr>\n",
       "    <tr>\n",
       "      <th>3647</th>\n",
       "      <td>UI/UX Developer (100% REMOTE)</td>\n",
       "      <td>Job details Salary $75 - $80 an hour Job Type ...</td>\n",
       "      <td>Qualifications High school or equivalent (Pref...</td>\n",
       "      <td>Positions Needed: 3 Max Submits: 9 Term: 6 mon...</td>\n",
       "    </tr>\n",
       "    <tr>\n",
       "      <th>3652</th>\n",
       "      <td>C# Developer (7+ years experience)</td>\n",
       "      <td>Job details Salary $80,000 - $150,000 a year J...</td>\n",
       "      <td>Qualifications Bachelor's (Required) C# or C: ...</td>\n",
       "      <td>NOVO Engineering is a contract engineering ser...</td>\n",
       "    </tr>\n",
       "  </tbody>\n",
       "</table>\n",
       "<p>973 rows × 4 columns</p>\n",
       "</div>"
      ],
      "text/plain": [
       "                                        title  \\\n",
       "0                            Python Developer   \n",
       "4                      Jr. Software Developer   \n",
       "8                        Junior Web Developer   \n",
       "10                              C++ Developer   \n",
       "13                         Software Developer   \n",
       "...                                       ...   \n",
       "3632                         Junior Developer   \n",
       "3642  Software Engineering Mentor (Part-time)   \n",
       "3646               Senior Java/J2EE Developer   \n",
       "3647            UI/UX Developer (100% REMOTE)   \n",
       "3652       C# Developer (7+ years experience)   \n",
       "\n",
       "                                            job_details  \\\n",
       "0     Job details Salary $80,000 - $120,000 a year J...   \n",
       "4     Job details Salary $65,000 - $90,000 a year Jo...   \n",
       "8     Job details Salary Up to $122,674 a year Job T...   \n",
       "10    Job details Salary $45 - $50 an hour Job Type ...   \n",
       "13    Job details Salary $117,021 a year Job Type Fu...   \n",
       "...                                                 ...   \n",
       "3632  Job details Salary $80,000 - $105,000 a year J...   \n",
       "3642                     Job details Job Type Part-time   \n",
       "3646  Job details Salary $65 - $75 an hour Job Type ...   \n",
       "3647  Job details Salary $75 - $80 an hour Job Type ...   \n",
       "3652  Job details Salary $80,000 - $150,000 a year J...   \n",
       "\n",
       "                                         qualifications  \\\n",
       "0     Qualifications Bachelor's (Preferred) REST: 1 ...   \n",
       "4     Qualifications Bachelor's (Preferred) Node.js:...   \n",
       "8                                                         \n",
       "10    Qualifications US work authorization (Required...   \n",
       "13                                                        \n",
       "...                                                 ...   \n",
       "3632  Qualifications Bachelor's (Preferred) Perl, PH...   \n",
       "3642                                                      \n",
       "3646                                                      \n",
       "3647  Qualifications High school or equivalent (Pref...   \n",
       "3652  Qualifications Bachelor's (Required) C# or C: ...   \n",
       "\n",
       "                                   full_job_description  \n",
       "0     Write effective, scalable code Develop back-en...  \n",
       "4     Job Title: Jr. Software Developer Location: Pa...  \n",
       "8     Cannabis Creative Group is an award-winning di...  \n",
       "10    · Having development experience in C / C++, Po...  \n",
       "13    Job Description\\n Software Developers : Analyz...  \n",
       "...                                                 ...  \n",
       "3632  WHAT WE WANT FriendFinder Networks is looking ...  \n",
       "3642  What is Pathrise? \\nPathrise (YC W18) is a sta...  \n",
       "3646  Location : Remote - In and around USA Hire Typ...  \n",
       "3647  Positions Needed: 3 Max Submits: 9 Term: 6 mon...  \n",
       "3652  NOVO Engineering is a contract engineering ser...  \n",
       "\n",
       "[973 rows x 4 columns]"
      ]
     },
     "execution_count": 50,
     "metadata": {},
     "output_type": "execute_result"
    }
   ],
   "source": [
    "job_data[job_data.full_job_description.str.findall(\"\\$\").astype(bool)]"
   ]
  },
  {
   "cell_type": "code",
   "execution_count": 76,
   "id": "64f86dad",
   "metadata": {},
   "outputs": [],
   "source": [
    "pattern = r\"(?:.*Salary\\s)(?P<salary>.*)(?:Job\\sType.*)\"\n",
    "\n",
    "salary = job_data.job_details.str.extract(pattern).dropna()"
   ]
  },
  {
   "cell_type": "code",
   "execution_count": 77,
   "id": "487b1c79",
   "metadata": {},
   "outputs": [
    {
     "data": {
      "text/html": [
       "<div>\n",
       "<style scoped>\n",
       "    .dataframe tbody tr th:only-of-type {\n",
       "        vertical-align: middle;\n",
       "    }\n",
       "\n",
       "    .dataframe tbody tr th {\n",
       "        vertical-align: top;\n",
       "    }\n",
       "\n",
       "    .dataframe thead th {\n",
       "        text-align: right;\n",
       "    }\n",
       "</style>\n",
       "<table border=\"1\" class=\"dataframe\">\n",
       "  <thead>\n",
       "    <tr style=\"text-align: right;\">\n",
       "      <th></th>\n",
       "      <th>title</th>\n",
       "      <th>job_details</th>\n",
       "      <th>qualifications</th>\n",
       "      <th>full_job_description</th>\n",
       "      <th>salary</th>\n",
       "    </tr>\n",
       "  </thead>\n",
       "  <tbody>\n",
       "    <tr>\n",
       "      <th>0</th>\n",
       "      <td>Python Developer</td>\n",
       "      <td>Job details Salary $80,000 - $120,000 a year J...</td>\n",
       "      <td>Qualifications Bachelor's (Preferred) REST: 1 ...</td>\n",
       "      <td>Write effective, scalable code Develop back-en...</td>\n",
       "      <td>$80,000 - $120,000 a year</td>\n",
       "    </tr>\n",
       "    <tr>\n",
       "      <th>4</th>\n",
       "      <td>Jr. Software Developer</td>\n",
       "      <td>Job details Salary $65,000 - $90,000 a year Jo...</td>\n",
       "      <td>Qualifications Bachelor's (Preferred) Node.js:...</td>\n",
       "      <td>Job Title: Jr. Software Developer Location: Pa...</td>\n",
       "      <td>$65,000 - $90,000 a year</td>\n",
       "    </tr>\n",
       "    <tr>\n",
       "      <th>8</th>\n",
       "      <td>Junior Web Developer</td>\n",
       "      <td>Job details Salary Up to $122,674 a year Job T...</td>\n",
       "      <td></td>\n",
       "      <td>Cannabis Creative Group is an award-winning di...</td>\n",
       "      <td>Up to $122,674 a year</td>\n",
       "    </tr>\n",
       "    <tr>\n",
       "      <th>10</th>\n",
       "      <td>C++ Developer</td>\n",
       "      <td>Job details Salary $45 - $50 an hour Job Type ...</td>\n",
       "      <td>Qualifications US work authorization (Required...</td>\n",
       "      <td>· Having development experience in C / C++, Po...</td>\n",
       "      <td>$45 - $50 an hour</td>\n",
       "    </tr>\n",
       "    <tr>\n",
       "      <th>12</th>\n",
       "      <td>Entry Level Java Developer</td>\n",
       "      <td>Job details Salary $35 an hour Job Type Full-time</td>\n",
       "      <td></td>\n",
       "      <td>What We Are Looking For \\n \\n Computer Science...</td>\n",
       "      <td>$35 an hour</td>\n",
       "    </tr>\n",
       "    <tr>\n",
       "      <th>...</th>\n",
       "      <td>...</td>\n",
       "      <td>...</td>\n",
       "      <td>...</td>\n",
       "      <td>...</td>\n",
       "      <td>...</td>\n",
       "    </tr>\n",
       "    <tr>\n",
       "      <th>3624</th>\n",
       "      <td>Web Developer</td>\n",
       "      <td>Job details Salary $25 - $59 an hour Job Type ...</td>\n",
       "      <td>Qualifications High school or equivalent (Pref...</td>\n",
       "      <td>We are looking for an outstanding Web Develope...</td>\n",
       "      <td>$25 - $59 an hour</td>\n",
       "    </tr>\n",
       "    <tr>\n",
       "      <th>3632</th>\n",
       "      <td>Junior Developer</td>\n",
       "      <td>Job details Salary $80,000 - $105,000 a year J...</td>\n",
       "      <td>Qualifications Bachelor's (Preferred) Perl, PH...</td>\n",
       "      <td>WHAT WE WANT FriendFinder Networks is looking ...</td>\n",
       "      <td>$80,000 - $105,000 a year</td>\n",
       "    </tr>\n",
       "    <tr>\n",
       "      <th>3646</th>\n",
       "      <td>Senior Java/J2EE Developer</td>\n",
       "      <td>Job details Salary $65 - $75 an hour Job Type ...</td>\n",
       "      <td></td>\n",
       "      <td>Location : Remote - In and around USA Hire Typ...</td>\n",
       "      <td>$65 - $75 an hour</td>\n",
       "    </tr>\n",
       "    <tr>\n",
       "      <th>3647</th>\n",
       "      <td>UI/UX Developer (100% REMOTE)</td>\n",
       "      <td>Job details Salary $75 - $80 an hour Job Type ...</td>\n",
       "      <td>Qualifications High school or equivalent (Pref...</td>\n",
       "      <td>Positions Needed: 3 Max Submits: 9 Term: 6 mon...</td>\n",
       "      <td>$75 - $80 an hour</td>\n",
       "    </tr>\n",
       "    <tr>\n",
       "      <th>3652</th>\n",
       "      <td>C# Developer (7+ years experience)</td>\n",
       "      <td>Job details Salary $80,000 - $150,000 a year J...</td>\n",
       "      <td>Qualifications Bachelor's (Required) C# or C: ...</td>\n",
       "      <td>NOVO Engineering is a contract engineering ser...</td>\n",
       "      <td>$80,000 - $150,000 a year</td>\n",
       "    </tr>\n",
       "  </tbody>\n",
       "</table>\n",
       "<p>860 rows × 5 columns</p>\n",
       "</div>"
      ],
      "text/plain": [
       "                                   title  \\\n",
       "0                       Python Developer   \n",
       "4                 Jr. Software Developer   \n",
       "8                   Junior Web Developer   \n",
       "10                         C++ Developer   \n",
       "12            Entry Level Java Developer   \n",
       "...                                  ...   \n",
       "3624                       Web Developer   \n",
       "3632                    Junior Developer   \n",
       "3646          Senior Java/J2EE Developer   \n",
       "3647       UI/UX Developer (100% REMOTE)   \n",
       "3652  C# Developer (7+ years experience)   \n",
       "\n",
       "                                            job_details  \\\n",
       "0     Job details Salary $80,000 - $120,000 a year J...   \n",
       "4     Job details Salary $65,000 - $90,000 a year Jo...   \n",
       "8     Job details Salary Up to $122,674 a year Job T...   \n",
       "10    Job details Salary $45 - $50 an hour Job Type ...   \n",
       "12    Job details Salary $35 an hour Job Type Full-time   \n",
       "...                                                 ...   \n",
       "3624  Job details Salary $25 - $59 an hour Job Type ...   \n",
       "3632  Job details Salary $80,000 - $105,000 a year J...   \n",
       "3646  Job details Salary $65 - $75 an hour Job Type ...   \n",
       "3647  Job details Salary $75 - $80 an hour Job Type ...   \n",
       "3652  Job details Salary $80,000 - $150,000 a year J...   \n",
       "\n",
       "                                         qualifications  \\\n",
       "0     Qualifications Bachelor's (Preferred) REST: 1 ...   \n",
       "4     Qualifications Bachelor's (Preferred) Node.js:...   \n",
       "8                                                         \n",
       "10    Qualifications US work authorization (Required...   \n",
       "12                                                        \n",
       "...                                                 ...   \n",
       "3624  Qualifications High school or equivalent (Pref...   \n",
       "3632  Qualifications Bachelor's (Preferred) Perl, PH...   \n",
       "3646                                                      \n",
       "3647  Qualifications High school or equivalent (Pref...   \n",
       "3652  Qualifications Bachelor's (Required) C# or C: ...   \n",
       "\n",
       "                                   full_job_description  \\\n",
       "0     Write effective, scalable code Develop back-en...   \n",
       "4     Job Title: Jr. Software Developer Location: Pa...   \n",
       "8     Cannabis Creative Group is an award-winning di...   \n",
       "10    · Having development experience in C / C++, Po...   \n",
       "12    What We Are Looking For \\n \\n Computer Science...   \n",
       "...                                                 ...   \n",
       "3624  We are looking for an outstanding Web Develope...   \n",
       "3632  WHAT WE WANT FriendFinder Networks is looking ...   \n",
       "3646  Location : Remote - In and around USA Hire Typ...   \n",
       "3647  Positions Needed: 3 Max Submits: 9 Term: 6 mon...   \n",
       "3652  NOVO Engineering is a contract engineering ser...   \n",
       "\n",
       "                          salary  \n",
       "0     $80,000 - $120,000 a year   \n",
       "4      $65,000 - $90,000 a year   \n",
       "8         Up to $122,674 a year   \n",
       "10            $45 - $50 an hour   \n",
       "12                  $35 an hour   \n",
       "...                          ...  \n",
       "3624          $25 - $59 an hour   \n",
       "3632  $80,000 - $105,000 a year   \n",
       "3646          $65 - $75 an hour   \n",
       "3647          $75 - $80 an hour   \n",
       "3652  $80,000 - $150,000 a year   \n",
       "\n",
       "[860 rows x 5 columns]"
      ]
     },
     "execution_count": 77,
     "metadata": {},
     "output_type": "execute_result"
    }
   ],
   "source": [
    "pd.merge(job_data, salary, how=\"inner\", right_index=True, left_index=True )"
   ]
  }
 ],
 "metadata": {
  "kernelspec": {
   "display_name": "Python 3 (ipykernel)",
   "language": "python",
   "name": "python3"
  },
  "language_info": {
   "codemirror_mode": {
    "name": "ipython",
    "version": 3
   },
   "file_extension": ".py",
   "mimetype": "text/x-python",
   "name": "python",
   "nbconvert_exporter": "python",
   "pygments_lexer": "ipython3",
   "version": "3.8.12"
  }
 },
 "nbformat": 4,
 "nbformat_minor": 5
}
